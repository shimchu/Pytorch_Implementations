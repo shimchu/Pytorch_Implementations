{
  "nbformat": 4,
  "nbformat_minor": 0,
  "metadata": {
    "colab": {
      "provenance": []
    },
    "kernelspec": {
      "name": "python3",
      "display_name": "Python 3"
    },
    "language_info": {
      "name": "python"
    },
    "accelerator": "GPU"
  },
  "cells": [
    {
      "cell_type": "markdown",
      "source": [
        "# 02. PyTorch Classification Exercises\n",
        "\n",
        "The following is a template for 02. PyTorch Classification exercises.\n",
        "\n",
        "It's only starter code and it's your job to fill in the blanks.\n",
        "\n",
        "Because of the flexibility of PyTorch, there may be more than one way to answer the question.\n",
        "\n",
        "Don't worry about trying to be *right* just try writing code that suffices the question.\n",
        "\n",
        "## Resources\n",
        "* These exercises are based on [notebook 02 of the learn PyTorch course](https://www.learnpytorch.io/02_pytorch_classification/).\n",
        "* You can see one form of [solutions on GitHub](https://github.com/mrdbourke/pytorch-deep-learning/tree/main/extras/solutions) (but try the exercises below yourself first!)."
      ],
      "metadata": {
        "id": "ZKJFt7YxH8yl"
      }
    },
    {
      "cell_type": "code",
      "source": [
        "# Import torch\n",
        "import torch\n",
        "\n",
        "# Setup device agnostic code\n",
        "device = 'cuda' if torch.cuda.is_available() else 'cpu'\n",
        "\n",
        "# Setup random seed\n",
        "RANDOM_SEED = 42"
      ],
      "metadata": {
        "id": "CSrUPgapO0tf"
      },
      "execution_count": null,
      "outputs": []
    },
    {
      "cell_type": "code",
      "source": [
        "device"
      ],
      "metadata": {
        "colab": {
          "base_uri": "https://localhost:8080/",
          "height": 36
        },
        "id": "TUmHmwmJvt9F",
        "outputId": "184114cb-6a4e-4815-a28b-ce2ec2813fb3"
      },
      "execution_count": null,
      "outputs": [
        {
          "output_type": "execute_result",
          "data": {
            "text/plain": [
              "'cuda'"
            ],
            "application/vnd.google.colaboratory.intrinsic+json": {
              "type": "string"
            }
          },
          "metadata": {},
          "execution_count": 2
        }
      ]
    },
    {
      "cell_type": "markdown",
      "source": [
        "## 1. Make a binary classification dataset with Scikit-Learn's [`make_moons()`](https://scikit-learn.org/stable/modules/generated/sklearn.datasets.make_moons.html) function.\n",
        "  * For consistency, the dataset should have 1000 samples and a `random_state=42`.\n",
        "  * Turn the data into PyTorch tensors.\n",
        "  * Split the data into training and test sets using `train_test_split` with 80% training and 20% testing."
      ],
      "metadata": {
        "id": "pH7jIZ2SPFee"
      }
    },
    {
      "cell_type": "code",
      "source": [
        "# Create a dataset with Scikit-Learn's make_moons()\n",
        "from sklearn.datasets import make_moons\n",
        "n_samples = 1000\n",
        "X , y = make_moons(n_samples, noise = 0.03, random_state = 42)\n",
        "\n",
        "X.dtype,y.dtype"
      ],
      "metadata": {
        "id": "5t4VhPV1PX1X",
        "colab": {
          "base_uri": "https://localhost:8080/"
        },
        "outputId": "ea670bb1-3543-4505-d559-00afc9d044b5"
      },
      "execution_count": null,
      "outputs": [
        {
          "output_type": "execute_result",
          "data": {
            "text/plain": [
              "(dtype('float64'), dtype('int64'))"
            ]
          },
          "metadata": {},
          "execution_count": 3
        }
      ]
    },
    {
      "cell_type": "code",
      "source": [
        "X"
      ],
      "metadata": {
        "colab": {
          "base_uri": "https://localhost:8080/"
        },
        "id": "Dv76xTZpws2h",
        "outputId": "670fe8dd-cc16-4cbc-f2c0-323cf4926d0f"
      },
      "execution_count": null,
      "outputs": [
        {
          "output_type": "execute_result",
          "data": {
            "text/plain": [
              "array([[-0.00933187,  0.39098105],\n",
              "       [ 0.95457387, -0.47375583],\n",
              "       [ 0.9185256 , -0.42519648],\n",
              "       ...,\n",
              "       [ 1.65391483, -0.29179795],\n",
              "       [-0.9341017 ,  0.35358221],\n",
              "       [ 0.7968358 ,  0.60423662]])"
            ]
          },
          "metadata": {},
          "execution_count": 4
        }
      ]
    },
    {
      "cell_type": "markdown",
      "source": [
        "X,y are in numpy array forms"
      ],
      "metadata": {
        "id": "jnVEJbAQwveo"
      }
    },
    {
      "cell_type": "code",
      "source": [
        "# Turn data into a DataFrame\n",
        "import pandas as pd\n",
        "moons  = pd.DataFrame({\"X1\": X[:,0], \"X2\": X[:,1], \"label\" : y})\n",
        "moons[:10] # or moon.head"
      ],
      "metadata": {
        "id": "SUeHZ3-3P9C7",
        "colab": {
          "base_uri": "https://localhost:8080/",
          "height": 363
        },
        "outputId": "9be49b6c-9700-4436-ce1d-ebe79d79381d"
      },
      "execution_count": null,
      "outputs": [
        {
          "output_type": "execute_result",
          "data": {
            "text/plain": [
              "         X1        X2  label\n",
              "0 -0.009332  0.390981      1\n",
              "1  0.954574 -0.473756      1\n",
              "2  0.918526 -0.425196      1\n",
              "3  0.412768 -0.376385      1\n",
              "4 -0.845320  0.528799      0\n",
              "5  0.579542 -0.352979      1\n",
              "6  0.294884 -0.209238      1\n",
              "7 -0.014488  0.435896      1\n",
              "8  1.626510 -0.281207      1\n",
              "9  0.671598  0.786422      0"
            ],
            "text/html": [
              "\n",
              "  <div id=\"df-16f032a7-ad1b-45da-98bc-3a0bdc7c9e93\" class=\"colab-df-container\">\n",
              "    <div>\n",
              "<style scoped>\n",
              "    .dataframe tbody tr th:only-of-type {\n",
              "        vertical-align: middle;\n",
              "    }\n",
              "\n",
              "    .dataframe tbody tr th {\n",
              "        vertical-align: top;\n",
              "    }\n",
              "\n",
              "    .dataframe thead th {\n",
              "        text-align: right;\n",
              "    }\n",
              "</style>\n",
              "<table border=\"1\" class=\"dataframe\">\n",
              "  <thead>\n",
              "    <tr style=\"text-align: right;\">\n",
              "      <th></th>\n",
              "      <th>X1</th>\n",
              "      <th>X2</th>\n",
              "      <th>label</th>\n",
              "    </tr>\n",
              "  </thead>\n",
              "  <tbody>\n",
              "    <tr>\n",
              "      <th>0</th>\n",
              "      <td>-0.009332</td>\n",
              "      <td>0.390981</td>\n",
              "      <td>1</td>\n",
              "    </tr>\n",
              "    <tr>\n",
              "      <th>1</th>\n",
              "      <td>0.954574</td>\n",
              "      <td>-0.473756</td>\n",
              "      <td>1</td>\n",
              "    </tr>\n",
              "    <tr>\n",
              "      <th>2</th>\n",
              "      <td>0.918526</td>\n",
              "      <td>-0.425196</td>\n",
              "      <td>1</td>\n",
              "    </tr>\n",
              "    <tr>\n",
              "      <th>3</th>\n",
              "      <td>0.412768</td>\n",
              "      <td>-0.376385</td>\n",
              "      <td>1</td>\n",
              "    </tr>\n",
              "    <tr>\n",
              "      <th>4</th>\n",
              "      <td>-0.845320</td>\n",
              "      <td>0.528799</td>\n",
              "      <td>0</td>\n",
              "    </tr>\n",
              "    <tr>\n",
              "      <th>5</th>\n",
              "      <td>0.579542</td>\n",
              "      <td>-0.352979</td>\n",
              "      <td>1</td>\n",
              "    </tr>\n",
              "    <tr>\n",
              "      <th>6</th>\n",
              "      <td>0.294884</td>\n",
              "      <td>-0.209238</td>\n",
              "      <td>1</td>\n",
              "    </tr>\n",
              "    <tr>\n",
              "      <th>7</th>\n",
              "      <td>-0.014488</td>\n",
              "      <td>0.435896</td>\n",
              "      <td>1</td>\n",
              "    </tr>\n",
              "    <tr>\n",
              "      <th>8</th>\n",
              "      <td>1.626510</td>\n",
              "      <td>-0.281207</td>\n",
              "      <td>1</td>\n",
              "    </tr>\n",
              "    <tr>\n",
              "      <th>9</th>\n",
              "      <td>0.671598</td>\n",
              "      <td>0.786422</td>\n",
              "      <td>0</td>\n",
              "    </tr>\n",
              "  </tbody>\n",
              "</table>\n",
              "</div>\n",
              "    <div class=\"colab-df-buttons\">\n",
              "\n",
              "  <div class=\"colab-df-container\">\n",
              "    <button class=\"colab-df-convert\" onclick=\"convertToInteractive('df-16f032a7-ad1b-45da-98bc-3a0bdc7c9e93')\"\n",
              "            title=\"Convert this dataframe to an interactive table.\"\n",
              "            style=\"display:none;\">\n",
              "\n",
              "  <svg xmlns=\"http://www.w3.org/2000/svg\" height=\"24px\" viewBox=\"0 -960 960 960\">\n",
              "    <path d=\"M120-120v-720h720v720H120Zm60-500h600v-160H180v160Zm220 220h160v-160H400v160Zm0 220h160v-160H400v160ZM180-400h160v-160H180v160Zm440 0h160v-160H620v160ZM180-180h160v-160H180v160Zm440 0h160v-160H620v160Z\"/>\n",
              "  </svg>\n",
              "    </button>\n",
              "\n",
              "  <style>\n",
              "    .colab-df-container {\n",
              "      display:flex;\n",
              "      gap: 12px;\n",
              "    }\n",
              "\n",
              "    .colab-df-convert {\n",
              "      background-color: #E8F0FE;\n",
              "      border: none;\n",
              "      border-radius: 50%;\n",
              "      cursor: pointer;\n",
              "      display: none;\n",
              "      fill: #1967D2;\n",
              "      height: 32px;\n",
              "      padding: 0 0 0 0;\n",
              "      width: 32px;\n",
              "    }\n",
              "\n",
              "    .colab-df-convert:hover {\n",
              "      background-color: #E2EBFA;\n",
              "      box-shadow: 0px 1px 2px rgba(60, 64, 67, 0.3), 0px 1px 3px 1px rgba(60, 64, 67, 0.15);\n",
              "      fill: #174EA6;\n",
              "    }\n",
              "\n",
              "    .colab-df-buttons div {\n",
              "      margin-bottom: 4px;\n",
              "    }\n",
              "\n",
              "    [theme=dark] .colab-df-convert {\n",
              "      background-color: #3B4455;\n",
              "      fill: #D2E3FC;\n",
              "    }\n",
              "\n",
              "    [theme=dark] .colab-df-convert:hover {\n",
              "      background-color: #434B5C;\n",
              "      box-shadow: 0px 1px 3px 1px rgba(0, 0, 0, 0.15);\n",
              "      filter: drop-shadow(0px 1px 2px rgba(0, 0, 0, 0.3));\n",
              "      fill: #FFFFFF;\n",
              "    }\n",
              "  </style>\n",
              "\n",
              "    <script>\n",
              "      const buttonEl =\n",
              "        document.querySelector('#df-16f032a7-ad1b-45da-98bc-3a0bdc7c9e93 button.colab-df-convert');\n",
              "      buttonEl.style.display =\n",
              "        google.colab.kernel.accessAllowed ? 'block' : 'none';\n",
              "\n",
              "      async function convertToInteractive(key) {\n",
              "        const element = document.querySelector('#df-16f032a7-ad1b-45da-98bc-3a0bdc7c9e93');\n",
              "        const dataTable =\n",
              "          await google.colab.kernel.invokeFunction('convertToInteractive',\n",
              "                                                    [key], {});\n",
              "        if (!dataTable) return;\n",
              "\n",
              "        const docLinkHtml = 'Like what you see? Visit the ' +\n",
              "          '<a target=\"_blank\" href=https://colab.research.google.com/notebooks/data_table.ipynb>data table notebook</a>'\n",
              "          + ' to learn more about interactive tables.';\n",
              "        element.innerHTML = '';\n",
              "        dataTable['output_type'] = 'display_data';\n",
              "        await google.colab.output.renderOutput(dataTable, element);\n",
              "        const docLink = document.createElement('div');\n",
              "        docLink.innerHTML = docLinkHtml;\n",
              "        element.appendChild(docLink);\n",
              "      }\n",
              "    </script>\n",
              "  </div>\n",
              "\n",
              "\n",
              "<div id=\"df-b3c9ff1f-9a36-4a75-a260-4853cd036d4d\">\n",
              "  <button class=\"colab-df-quickchart\" onclick=\"quickchart('df-b3c9ff1f-9a36-4a75-a260-4853cd036d4d')\"\n",
              "            title=\"Suggest charts\"\n",
              "            style=\"display:none;\">\n",
              "\n",
              "<svg xmlns=\"http://www.w3.org/2000/svg\" height=\"24px\"viewBox=\"0 0 24 24\"\n",
              "     width=\"24px\">\n",
              "    <g>\n",
              "        <path d=\"M19 3H5c-1.1 0-2 .9-2 2v14c0 1.1.9 2 2 2h14c1.1 0 2-.9 2-2V5c0-1.1-.9-2-2-2zM9 17H7v-7h2v7zm4 0h-2V7h2v10zm4 0h-2v-4h2v4z\"/>\n",
              "    </g>\n",
              "</svg>\n",
              "  </button>\n",
              "\n",
              "<style>\n",
              "  .colab-df-quickchart {\n",
              "      --bg-color: #E8F0FE;\n",
              "      --fill-color: #1967D2;\n",
              "      --hover-bg-color: #E2EBFA;\n",
              "      --hover-fill-color: #174EA6;\n",
              "      --disabled-fill-color: #AAA;\n",
              "      --disabled-bg-color: #DDD;\n",
              "  }\n",
              "\n",
              "  [theme=dark] .colab-df-quickchart {\n",
              "      --bg-color: #3B4455;\n",
              "      --fill-color: #D2E3FC;\n",
              "      --hover-bg-color: #434B5C;\n",
              "      --hover-fill-color: #FFFFFF;\n",
              "      --disabled-bg-color: #3B4455;\n",
              "      --disabled-fill-color: #666;\n",
              "  }\n",
              "\n",
              "  .colab-df-quickchart {\n",
              "    background-color: var(--bg-color);\n",
              "    border: none;\n",
              "    border-radius: 50%;\n",
              "    cursor: pointer;\n",
              "    display: none;\n",
              "    fill: var(--fill-color);\n",
              "    height: 32px;\n",
              "    padding: 0;\n",
              "    width: 32px;\n",
              "  }\n",
              "\n",
              "  .colab-df-quickchart:hover {\n",
              "    background-color: var(--hover-bg-color);\n",
              "    box-shadow: 0 1px 2px rgba(60, 64, 67, 0.3), 0 1px 3px 1px rgba(60, 64, 67, 0.15);\n",
              "    fill: var(--button-hover-fill-color);\n",
              "  }\n",
              "\n",
              "  .colab-df-quickchart-complete:disabled,\n",
              "  .colab-df-quickchart-complete:disabled:hover {\n",
              "    background-color: var(--disabled-bg-color);\n",
              "    fill: var(--disabled-fill-color);\n",
              "    box-shadow: none;\n",
              "  }\n",
              "\n",
              "  .colab-df-spinner {\n",
              "    border: 2px solid var(--fill-color);\n",
              "    border-color: transparent;\n",
              "    border-bottom-color: var(--fill-color);\n",
              "    animation:\n",
              "      spin 1s steps(1) infinite;\n",
              "  }\n",
              "\n",
              "  @keyframes spin {\n",
              "    0% {\n",
              "      border-color: transparent;\n",
              "      border-bottom-color: var(--fill-color);\n",
              "      border-left-color: var(--fill-color);\n",
              "    }\n",
              "    20% {\n",
              "      border-color: transparent;\n",
              "      border-left-color: var(--fill-color);\n",
              "      border-top-color: var(--fill-color);\n",
              "    }\n",
              "    30% {\n",
              "      border-color: transparent;\n",
              "      border-left-color: var(--fill-color);\n",
              "      border-top-color: var(--fill-color);\n",
              "      border-right-color: var(--fill-color);\n",
              "    }\n",
              "    40% {\n",
              "      border-color: transparent;\n",
              "      border-right-color: var(--fill-color);\n",
              "      border-top-color: var(--fill-color);\n",
              "    }\n",
              "    60% {\n",
              "      border-color: transparent;\n",
              "      border-right-color: var(--fill-color);\n",
              "    }\n",
              "    80% {\n",
              "      border-color: transparent;\n",
              "      border-right-color: var(--fill-color);\n",
              "      border-bottom-color: var(--fill-color);\n",
              "    }\n",
              "    90% {\n",
              "      border-color: transparent;\n",
              "      border-bottom-color: var(--fill-color);\n",
              "    }\n",
              "  }\n",
              "</style>\n",
              "\n",
              "  <script>\n",
              "    async function quickchart(key) {\n",
              "      const quickchartButtonEl =\n",
              "        document.querySelector('#' + key + ' button');\n",
              "      quickchartButtonEl.disabled = true;  // To prevent multiple clicks.\n",
              "      quickchartButtonEl.classList.add('colab-df-spinner');\n",
              "      try {\n",
              "        const charts = await google.colab.kernel.invokeFunction(\n",
              "            'suggestCharts', [key], {});\n",
              "      } catch (error) {\n",
              "        console.error('Error during call to suggestCharts:', error);\n",
              "      }\n",
              "      quickchartButtonEl.classList.remove('colab-df-spinner');\n",
              "      quickchartButtonEl.classList.add('colab-df-quickchart-complete');\n",
              "    }\n",
              "    (() => {\n",
              "      let quickchartButtonEl =\n",
              "        document.querySelector('#df-b3c9ff1f-9a36-4a75-a260-4853cd036d4d button');\n",
              "      quickchartButtonEl.style.display =\n",
              "        google.colab.kernel.accessAllowed ? 'block' : 'none';\n",
              "    })();\n",
              "  </script>\n",
              "</div>\n",
              "\n",
              "    </div>\n",
              "  </div>\n"
            ],
            "application/vnd.google.colaboratory.intrinsic+json": {
              "type": "dataframe",
              "summary": "{\n  \"name\": \"moons[:10] # or moon\",\n  \"rows\": 10,\n  \"fields\": [\n    {\n      \"column\": \"X1\",\n      \"properties\": {\n        \"dtype\": \"number\",\n        \"std\": 0.6711030733571133,\n        \"min\": -0.8453201576791285,\n        \"max\": 1.6265103704826596,\n        \"num_unique_values\": 10,\n        \"samples\": [\n          1.6265103704826596,\n          0.9545738691624412,\n          0.5795424858467747\n        ],\n        \"semantic_type\": \"\",\n        \"description\": \"\"\n      }\n    },\n    {\n      \"column\": \"X2\",\n      \"properties\": {\n        \"dtype\": \"number\",\n        \"std\": 0.4755417417330248,\n        \"min\": -0.47375582788183507,\n        \"max\": 0.7864222732171882,\n        \"num_unique_values\": 10,\n        \"samples\": [\n          -0.2812074178087713,\n          -0.47375582788183507,\n          -0.3529786749192238\n        ],\n        \"semantic_type\": \"\",\n        \"description\": \"\"\n      }\n    },\n    {\n      \"column\": \"label\",\n      \"properties\": {\n        \"dtype\": \"number\",\n        \"std\": 0,\n        \"min\": 0,\n        \"max\": 1,\n        \"num_unique_values\": 2,\n        \"samples\": [\n          0,\n          1\n        ],\n        \"semantic_type\": \"\",\n        \"description\": \"\"\n      }\n    }\n  ]\n}"
            }
          },
          "metadata": {},
          "execution_count": 5
        }
      ]
    },
    {
      "cell_type": "code",
      "source": [
        "moons.label.value_counts()"
      ],
      "metadata": {
        "colab": {
          "base_uri": "https://localhost:8080/"
        },
        "id": "h_C8Mymsx2Ah",
        "outputId": "dfa5f0fe-41d7-4098-c314-ff7dc40da040"
      },
      "execution_count": null,
      "outputs": [
        {
          "output_type": "execute_result",
          "data": {
            "text/plain": [
              "label\n",
              "1    500\n",
              "0    500\n",
              "Name: count, dtype: int64"
            ]
          },
          "metadata": {},
          "execution_count": 6
        }
      ]
    },
    {
      "cell_type": "markdown",
      "source": [
        "Hence, the data is balanced"
      ],
      "metadata": {
        "id": "Qos9u5SSx5_m"
      }
    },
    {
      "cell_type": "code",
      "source": [
        "# Visualize the data on a scatter plot\n",
        "import matplotlib.pyplot as plt\n",
        "plt.scatter(x = X[:,0], y = X[:,1], c = y, cmap = plt.cm.RdYlBu)\n"
      ],
      "metadata": {
        "id": "owrkPSFvQPFI",
        "colab": {
          "base_uri": "https://localhost:8080/",
          "height": 448
        },
        "outputId": "1b3a86b5-809c-4a49-99da-9f17c1591add"
      },
      "execution_count": null,
      "outputs": [
        {
          "output_type": "execute_result",
          "data": {
            "text/plain": [
              "<matplotlib.collections.PathCollection at 0x79425d73a320>"
            ]
          },
          "metadata": {},
          "execution_count": 7
        },
        {
          "output_type": "display_data",
          "data": {
            "text/plain": [
              "<Figure size 640x480 with 1 Axes>"
            ],
            "image/png": "[encoded data removed]"
          },
          "metadata": {}
        }
      ]
    },
    {
      "cell_type": "code",
      "source": [
        "X_sample = X[0]\n",
        "y_sample = y[0]\n",
        "print(f\"Values for one sample of X: {X_sample} and the same for y: {y_sample}\")\n",
        "print(f\"Shapes for one sample of X: {X_sample.shape} and the same for y: {y_sample.shape}\")"
      ],
      "metadata": {
        "colab": {
          "base_uri": "https://localhost:8080/"
        },
        "id": "XYtpERCYyUCr",
        "outputId": "05cce3b4-5f25-4f1f-f9ab-fa4c87efb928"
      },
      "execution_count": null,
      "outputs": [
        {
          "output_type": "stream",
          "name": "stdout",
          "text": [
            "Values for one sample of X: [-0.00933187  0.39098105] and the same for y: 1\n",
            "Shapes for one sample of X: (2,) and the same for y: ()\n"
          ]
        }
      ]
    },
    {
      "cell_type": "code",
      "source": [
        "# Turn data into tensors of dtype float\n",
        "X = torch.from_numpy(X).type(torch.float)\n",
        "y = torch.from_numpy(y).type(torch.float)\n",
        "print(X[:5], y[:5])\n",
        "\n",
        "# Split the data into train and test sets (80% train, 20% test)\n",
        "from sklearn.model_selection import train_test_split\n",
        "X_train, X_test, y_train, y_test = train_test_split(X, y, test_size = 0.2, random_state = 42)"
      ],
      "metadata": {
        "id": "bDhyHn9fR4dq",
        "colab": {
          "base_uri": "https://localhost:8080/"
        },
        "outputId": "944894ec-5619-4485-8d75-661351c0888d"
      },
      "execution_count": null,
      "outputs": [
        {
          "output_type": "stream",
          "name": "stdout",
          "text": [
            "tensor([[-0.0093,  0.3910],\n",
            "        [ 0.9546, -0.4738],\n",
            "        [ 0.9185, -0.4252],\n",
            "        [ 0.4128, -0.3764],\n",
            "        [-0.8453,  0.5288]]) tensor([1., 1., 1., 1., 0.])\n"
          ]
        }
      ]
    },
    {
      "cell_type": "code",
      "source": [
        "len(X_train), len(X_test), len(y_train), len(y_test)"
      ],
      "metadata": {
        "colab": {
          "base_uri": "https://localhost:8080/"
        },
        "id": "3fT1f7MBzkIi",
        "outputId": "315d1186-b10a-47c1-df4d-6099029470ca"
      },
      "execution_count": null,
      "outputs": [
        {
          "output_type": "execute_result",
          "data": {
            "text/plain": [
              "(800, 200, 800, 200)"
            ]
          },
          "metadata": {},
          "execution_count": 10
        }
      ]
    },
    {
      "cell_type": "code",
      "source": [
        "y_train.shape, y_test.shape"
      ],
      "metadata": {
        "colab": {
          "base_uri": "https://localhost:8080/"
        },
        "id": "lfu3xtbu7Pn-",
        "outputId": "a196797b-bf75-495e-d9e4-d46a6bc4a025"
      },
      "execution_count": null,
      "outputs": [
        {
          "output_type": "execute_result",
          "data": {
            "text/plain": [
              "(torch.Size([800]), torch.Size([200]))"
            ]
          },
          "metadata": {},
          "execution_count": 11
        }
      ]
    },
    {
      "cell_type": "code",
      "source": [
        "X_train, y_train, X_test, y_test"
      ],
      "metadata": {
        "colab": {
          "base_uri": "https://localhost:8080/"
        },
        "id": "oc41zLlv9ELN",
        "outputId": "98e036c2-b7ac-40a3-dbe4-e2aa75d9791f"
      },
      "execution_count": null,
      "outputs": [
        {
          "output_type": "execute_result",
          "data": {
            "text/plain": [
              "(tensor([[ 1.9758,  0.2076],\n",
              "         [-0.9608,  0.4007],\n",
              "         [-0.0986,  1.0231],\n",
              "         ...,\n",
              "         [-0.7455,  0.6595],\n",
              "         [ 1.0195,  0.0933],\n",
              "         [ 1.9252,  0.1191]]),\n",
              " tensor([1., 0., 0., 0., 1., 0., 1., 1., 0., 0., 1., 0., 0., 0., 1., 0., 0., 0.,\n",
              "         0., 1., 1., 1., 0., 1., 1., 1., 0., 0., 0., 0., 0., 0., 0., 1., 0., 0.,\n",
              "         1., 1., 1., 1., 1., 1., 0., 1., 0., 1., 0., 0., 0., 0., 0., 1., 0., 1.,\n",
              "         1., 1., 0., 1., 1., 1., 0., 0., 0., 1., 0., 0., 1., 0., 0., 0., 1., 1.,\n",
              "         1., 0., 0., 0., 0., 0., 0., 0., 1., 1., 0., 1., 0., 1., 0., 1., 0., 1.,\n",
              "         1., 1., 0., 0., 0., 1., 0., 1., 1., 0., 0., 0., 0., 0., 0., 1., 0., 0.,\n",
              "         0., 0., 1., 1., 0., 0., 1., 0., 1., 1., 0., 1., 0., 1., 0., 1., 0., 1.,\n",
              "         0., 0., 1., 1., 1., 1., 1., 1., 1., 0., 0., 1., 1., 1., 1., 1., 0., 1.,\n",
              "         1., 0., 1., 0., 0., 0., 1., 1., 0., 1., 1., 1., 1., 0., 0., 1., 1., 0.,\n",
              "         0., 1., 1., 1., 1., 0., 1., 1., 0., 0., 0., 1., 1., 1., 1., 1., 1., 1.,\n",
              "         0., 1., 1., 0., 0., 1., 1., 0., 0., 0., 0., 0., 1., 0., 0., 1., 1., 1.,\n",
              "         1., 1., 0., 0., 0., 0., 1., 1., 0., 1., 1., 0., 0., 0., 1., 0., 1., 1.,\n",
              "         1., 1., 1., 0., 1., 0., 0., 0., 0., 0., 0., 0., 0., 1., 1., 0., 0., 1.,\n",
              "         0., 1., 0., 0., 0., 1., 0., 1., 1., 1., 1., 1., 1., 0., 0., 1., 0., 1.,\n",
              "         0., 1., 0., 1., 0., 0., 1., 1., 0., 1., 1., 1., 0., 1., 0., 1., 1., 1.,\n",
              "         1., 1., 1., 0., 1., 0., 0., 0., 1., 1., 0., 1., 0., 0., 0., 1., 0., 0.,\n",
              "         1., 0., 0., 1., 0., 1., 0., 1., 1., 1., 1., 0., 1., 0., 0., 1., 1., 0.,\n",
              "         1., 0., 0., 1., 1., 1., 0., 1., 1., 0., 1., 1., 0., 0., 0., 1., 0., 0.,\n",
              "         0., 0., 0., 1., 1., 0., 0., 0., 1., 0., 1., 0., 0., 0., 0., 1., 1., 0.,\n",
              "         0., 0., 1., 1., 0., 1., 1., 1., 0., 0., 1., 0., 1., 0., 1., 1., 1., 1.,\n",
              "         0., 0., 0., 1., 0., 1., 0., 1., 0., 0., 0., 0., 1., 1., 0., 0., 1., 0.,\n",
              "         1., 1., 0., 0., 0., 1., 1., 0., 0., 1., 1., 0., 0., 0., 0., 1., 0., 1.,\n",
              "         0., 0., 1., 1., 1., 0., 0., 0., 1., 0., 1., 0., 1., 0., 0., 0., 0., 0.,\n",
              "         0., 0., 1., 0., 0., 0., 0., 1., 1., 0., 0., 1., 0., 0., 1., 1., 1., 1.,\n",
              "         0., 1., 1., 0., 0., 1., 0., 1., 0., 1., 1., 0., 0., 0., 0., 0., 1., 1.,\n",
              "         0., 0., 0., 1., 0., 0., 1., 0., 1., 1., 1., 1., 1., 1., 1., 1., 0., 0.,\n",
              "         1., 0., 1., 1., 1., 1., 0., 1., 0., 1., 1., 1., 0., 0., 0., 1., 0., 1.,\n",
              "         0., 1., 1., 0., 1., 0., 0., 1., 1., 0., 0., 0., 1., 1., 0., 0., 0., 0.,\n",
              "         1., 0., 0., 1., 1., 0., 0., 1., 0., 1., 1., 0., 0., 0., 1., 0., 1., 0.,\n",
              "         1., 1., 0., 0., 1., 1., 1., 1., 0., 1., 1., 1., 1., 1., 0., 1., 1., 1.,\n",
              "         0., 1., 1., 1., 1., 0., 0., 1., 1., 0., 0., 1., 0., 1., 0., 1., 0., 1.,\n",
              "         1., 0., 1., 1., 0., 0., 0., 1., 0., 1., 1., 1., 0., 0., 0., 1., 1., 0.,\n",
              "         1., 0., 1., 0., 1., 0., 0., 0., 0., 1., 0., 1., 1., 1., 1., 1., 0., 0.,\n",
              "         1., 0., 0., 1., 0., 1., 0., 1., 0., 1., 1., 1., 0., 1., 0., 0., 0., 0.,\n",
              "         1., 1., 0., 0., 0., 1., 0., 1., 0., 1., 0., 1., 0., 0., 1., 0., 1., 1.,\n",
              "         0., 0., 1., 0., 0., 1., 0., 1., 1., 1., 1., 0., 0., 0., 0., 0., 0., 1.,\n",
              "         0., 1., 1., 1., 1., 0., 1., 1., 0., 0., 0., 0., 1., 0., 1., 0., 0., 1.,\n",
              "         1., 0., 1., 0., 1., 1., 0., 0., 1., 1., 1., 1., 1., 0., 0., 1., 1., 0.,\n",
              "         1., 1., 1., 0., 0., 1., 1., 0., 0., 0., 1., 1., 0., 0., 1., 0., 1., 0.,\n",
              "         0., 1., 1., 1., 0., 0., 1., 1., 1., 1., 1., 0., 1., 1., 0., 1., 1., 1.,\n",
              "         1., 0., 1., 1., 0., 0., 1., 0., 1., 0., 0., 0., 1., 0., 1., 0., 0., 0.,\n",
              "         0., 0., 1., 0., 1., 0., 1., 0., 1., 1., 1., 1., 1., 1., 0., 1., 0., 0.,\n",
              "         1., 1., 0., 0., 0., 0., 1., 1., 1., 0., 1., 0., 1., 0., 1., 1., 1., 0.,\n",
              "         0., 1., 0., 0., 1., 1., 1., 1., 0., 1., 0., 1., 0., 1., 1., 0., 0., 1.,\n",
              "         1., 1., 0., 1., 0., 0., 0., 1.]),\n",
              " tensor([[ 5.1717e-01, -3.7846e-01],\n",
              "         [ 7.5356e-01,  6.8706e-01],\n",
              "         [ 1.2408e+00, -4.5972e-01],\n",
              "         [ 6.2358e-01,  8.4083e-01],\n",
              "         [ 1.8526e+00, -4.5404e-02],\n",
              "         [ 1.9586e+00,  1.0537e-01],\n",
              "         [ 9.8722e-01,  2.8029e-01],\n",
              "         [ 1.0166e+00,  9.7199e-02],\n",
              "         [ 1.1619e+00, -5.6673e-01],\n",
              "         [ 7.1892e-01,  6.6150e-01],\n",
              "         [ 5.4551e-01,  8.2050e-01],\n",
              "         [ 4.7338e-01, -3.4766e-01],\n",
              "         [ 1.0098e+00,  2.0890e-01],\n",
              "         [ 1.3743e+00, -5.0378e-01],\n",
              "         [-1.0036e-01,  1.0278e+00],\n",
              "         [ 1.9697e+00,  4.4806e-01],\n",
              "         [ 1.6271e-01, -4.8268e-02],\n",
              "         [ 4.0242e-01,  9.2622e-01],\n",
              "         [ 6.5221e-01, -4.3669e-01],\n",
              "         [ 2.8930e-01,  9.7893e-01],\n",
              "         [ 7.2653e-01,  6.9982e-01],\n",
              "         [-9.7212e-01,  3.7072e-02],\n",
              "         [ 7.3103e-01, -4.6106e-01],\n",
              "         [ 2.7514e-01,  1.0178e+00],\n",
              "         [ 8.6969e-01,  4.1484e-01],\n",
              "         [ 9.5007e-01,  1.7805e-01],\n",
              "         [-5.3397e-01,  7.9354e-01],\n",
              "         [-9.7125e-01,  2.3748e-01],\n",
              "         [-1.4302e-01,  9.8793e-01],\n",
              "         [ 1.4955e+00, -3.1987e-01],\n",
              "         [ 3.5515e-02,  1.7251e-01],\n",
              "         [ 8.6689e-01,  4.5841e-01],\n",
              "         [ 5.3681e-01,  7.6893e-01],\n",
              "         [ 1.7469e+00, -1.8313e-01],\n",
              "         [ 5.1048e-01,  8.7524e-01],\n",
              "         [ 2.4479e-01, -1.5979e-01],\n",
              "         [ 4.1270e-01, -2.4378e-01],\n",
              "         [ 1.3237e+00, -4.0791e-01],\n",
              "         [ 1.6871e+00, -2.8554e-01],\n",
              "         [ 1.4260e+00, -3.9845e-01],\n",
              "         [ 7.5172e-01, -4.4823e-01],\n",
              "         [ 1.0807e+00, -4.8988e-01],\n",
              "         [ 1.0112e-01, -1.7669e-02],\n",
              "         [-8.9899e-01,  5.1580e-01],\n",
              "         [ 5.2167e-01,  8.1015e-01],\n",
              "         [ 1.7483e-01, -8.4636e-02],\n",
              "         [-9.4626e-01,  4.6571e-01],\n",
              "         [ 7.0987e-01,  7.4403e-01],\n",
              "         [ 1.9872e-01, -2.2083e-01],\n",
              "         [ 1.9402e+00,  5.5655e-02],\n",
              "         [ 5.7439e-01,  7.9410e-01],\n",
              "         [ 5.4256e-01,  8.5199e-01],\n",
              "         [-9.8495e-01,  2.4944e-01],\n",
              "         [-8.2034e-01,  6.0453e-01],\n",
              "         [-2.0899e-04,  3.4295e-01],\n",
              "         [-5.2927e-01,  8.5131e-01],\n",
              "         [ 1.8449e-02,  3.9748e-01],\n",
              "         [ 1.3113e+00, -4.1515e-01],\n",
              "         [ 8.7628e-01, -4.9411e-01],\n",
              "         [ 6.0575e-02,  1.0154e+00],\n",
              "         [ 1.8816e+00,  5.8573e-02],\n",
              "         [ 9.5902e-01,  1.5980e-01],\n",
              "         [ 1.2417e-01,  9.7935e-01],\n",
              "         [ 1.4298e+00, -3.9243e-01],\n",
              "         [ 4.5250e-01, -3.4918e-01],\n",
              "         [ 2.3941e-01, -1.9205e-01],\n",
              "         [ 1.9917e+00,  4.2580e-01],\n",
              "         [-1.0138e+00, -2.7768e-02],\n",
              "         [ 7.6042e-01,  6.0199e-01],\n",
              "         [-1.0521e+00,  8.1497e-02],\n",
              "         [ 1.9739e+00,  2.4078e-01],\n",
              "         [ 7.9244e-01,  6.1195e-01],\n",
              "         [ 2.2701e-02,  9.7132e-01],\n",
              "         [ 1.1358e+00, -4.5059e-01],\n",
              "         [ 3.1427e-02,  5.1080e-01],\n",
              "         [ 1.9630e+00,  2.3943e-01],\n",
              "         [ 1.6857e+00, -2.1261e-01],\n",
              "         [ 9.3931e-01,  3.2878e-01],\n",
              "         [ 4.5961e-01,  8.9010e-01],\n",
              "         [ 1.8216e-01,  6.1325e-02],\n",
              "         [ 2.6989e-01,  9.2901e-01],\n",
              "         [ 5.0156e-01, -3.9186e-01],\n",
              "         [ 9.3537e-01,  1.4476e-01],\n",
              "         [ 1.6586e+00, -2.4495e-01],\n",
              "         [ 8.3598e-01, -4.7432e-01],\n",
              "         [ 1.8915e-01, -2.2394e-02],\n",
              "         [-9.3410e-01,  3.5358e-01],\n",
              "         [-4.4218e-01,  9.1061e-01],\n",
              "         [-7.6422e-01,  6.7559e-01],\n",
              "         [-9.6164e-01,  7.9000e-02],\n",
              "         [ 1.1886e+00, -4.6250e-01],\n",
              "         [ 1.7259e+00, -1.9531e-01],\n",
              "         [ 1.6763e+00, -1.8367e-01],\n",
              "         [ 1.8290e+00, -5.9463e-02],\n",
              "         [ 1.3302e+00, -4.1101e-01],\n",
              "         [ 3.8668e-01,  9.2183e-01],\n",
              "         [ 1.7631e-01, -1.6634e-01],\n",
              "         [ 9.8338e-01, -4.9673e-01],\n",
              "         [ 2.1690e-01,  9.7378e-01],\n",
              "         [ 1.7841e+00, -1.4955e-01],\n",
              "         [ 7.3577e-01,  7.3475e-01],\n",
              "         [-1.8881e-01,  9.5112e-01],\n",
              "         [ 2.4205e-01, -1.0358e-01],\n",
              "         [ 1.8374e-02,  3.7806e-01],\n",
              "         [ 1.7858e-01,  9.8268e-01],\n",
              "         [-6.6920e-01,  7.4293e-01],\n",
              "         [ 1.6332e+00, -2.4926e-01],\n",
              "         [ 9.5786e-01,  3.5660e-01],\n",
              "         [-3.6475e-01,  9.6463e-01],\n",
              "         [ 1.9419e+00,  3.8933e-01],\n",
              "         [ 3.6974e-01, -2.6112e-01],\n",
              "         [ 6.7588e-01, -3.9540e-01],\n",
              "         [ 8.1118e-01,  5.3875e-01],\n",
              "         [ 1.9279e+00,  1.1209e-01],\n",
              "         [ 2.0646e+00,  5.1387e-01],\n",
              "         [-5.9221e-01,  8.2801e-01],\n",
              "         [ 1.5114e+00, -2.9568e-01],\n",
              "         [-3.9312e-01,  9.4371e-01],\n",
              "         [ 1.5953e+00, -3.5123e-01],\n",
              "         [-6.1183e-01,  7.5164e-01],\n",
              "         [ 8.4746e-01, -4.4554e-01],\n",
              "         [-6.5370e-01,  7.7337e-01],\n",
              "         [-9.9049e-01,  2.5041e-01],\n",
              "         [ 8.2094e-01, -4.8560e-01],\n",
              "         [ 2.0634e+00,  2.7239e-01],\n",
              "         [-6.2193e-01,  8.0247e-01],\n",
              "         [ 1.2739e+00, -4.4764e-01],\n",
              "         [ 1.5545e-01, -1.8035e-02],\n",
              "         [ 6.8952e-01,  7.1196e-01],\n",
              "         [ 7.1281e-02,  1.4361e-01],\n",
              "         [ 9.1090e-01, -4.7579e-01],\n",
              "         [ 9.6881e-01,  2.5184e-01],\n",
              "         [ 1.7152e+00, -2.3706e-01],\n",
              "         [ 7.9302e-01,  5.9140e-01],\n",
              "         [ 8.1211e-01,  5.5484e-01],\n",
              "         [ 9.5824e-01,  1.8282e-01],\n",
              "         [ 1.7950e+00, -1.3024e-01],\n",
              "         [-4.6018e-01,  8.3842e-01],\n",
              "         [ 1.3646e-01,  1.0079e+00],\n",
              "         [ 1.7129e-01, -6.8381e-02],\n",
              "         [-3.2426e-01,  9.4783e-01],\n",
              "         [ 9.0879e-01,  4.7139e-01],\n",
              "         [ 3.1881e-01,  9.2942e-01],\n",
              "         [ 1.2937e+00, -3.9551e-01],\n",
              "         [-3.1245e-01,  9.5085e-01],\n",
              "         [-7.8891e-01,  6.8954e-01],\n",
              "         [ 5.6788e-02,  2.3229e-01],\n",
              "         [-3.9511e-01,  9.9745e-01],\n",
              "         [ 7.7732e-02,  7.5710e-02],\n",
              "         [ 6.3833e-01,  8.0043e-01],\n",
              "         [ 1.9925e+00,  2.8253e-01],\n",
              "         [ 9.0427e-01,  3.6858e-01],\n",
              "         [ 1.1108e+00, -4.4475e-01],\n",
              "         [-1.2297e-01,  1.0293e+00],\n",
              "         [ 1.9781e+00,  4.2983e-01],\n",
              "         [ 1.9219e-01, -1.2059e-01],\n",
              "         [ 8.0073e-02,  1.0234e-01],\n",
              "         [-2.9502e-01,  9.6733e-01],\n",
              "         [-2.1149e-01,  9.2424e-01],\n",
              "         [ 1.0132e+00, -4.9864e-01],\n",
              "         [ 5.8545e-01,  8.1304e-01],\n",
              "         [ 1.9825e+00,  4.5003e-01],\n",
              "         [ 1.4938e+00, -3.5798e-01],\n",
              "         [ 4.2269e-01,  9.2500e-01],\n",
              "         [ 1.8901e-01, -2.9975e-02],\n",
              "         [-9.3070e-01,  5.0974e-01],\n",
              "         [ 9.5245e-01,  3.4950e-02],\n",
              "         [-2.7167e-01,  9.7763e-01],\n",
              "         [-1.0063e+00,  3.2750e-01],\n",
              "         [ 1.6440e-01, -4.1266e-02],\n",
              "         [ 1.2643e-01,  5.4175e-02],\n",
              "         [ 1.6636e-01, -1.3250e-02],\n",
              "         [ 3.0490e-02,  3.4061e-01],\n",
              "         [-1.0413e+00,  2.4865e-01],\n",
              "         [ 9.7094e-01,  2.7865e-01],\n",
              "         [-9.6862e-01,  3.1447e-01],\n",
              "         [-8.7159e-01,  6.0094e-01],\n",
              "         [ 9.5283e-01,  2.3302e-02],\n",
              "         [ 8.0120e-02,  5.9448e-02],\n",
              "         [-8.6904e-01,  5.2368e-01],\n",
              "         [-9.5311e-01,  4.4869e-01],\n",
              "         [ 1.0018e+00, -5.3439e-01],\n",
              "         [ 8.6514e-01,  4.8297e-01],\n",
              "         [ 1.4638e+00, -3.6671e-01],\n",
              "         [ 8.3467e-01, -4.6125e-01],\n",
              "         [ 1.8532e-01,  9.4498e-01],\n",
              "         [ 6.4902e-01,  7.5326e-01],\n",
              "         [ 9.5238e-01,  1.4868e-01],\n",
              "         [ 4.4468e-01, -3.0413e-01],\n",
              "         [ 1.8676e+00, -5.9623e-03],\n",
              "         [ 3.5360e-02,  9.8058e-01],\n",
              "         [ 1.2906e+00, -4.3959e-01],\n",
              "         [ 1.1318e-01,  6.5890e-02],\n",
              "         [ 9.1034e-01,  4.6128e-01],\n",
              "         [ 1.4636e+00, -4.0395e-01],\n",
              "         [ 9.1310e-01,  3.1439e-01],\n",
              "         [ 8.3491e-01, -5.0851e-01],\n",
              "         [-1.0404e+00,  1.5698e-02],\n",
              "         [ 8.0275e-01, -4.1977e-01],\n",
              "         [ 1.0282e-01,  2.1480e-02]]),\n",
              " tensor([1., 0., 1., 0., 1., 1., 0., 0., 1., 0., 0., 1., 0., 1., 0., 1., 1., 0.,\n",
              "         1., 0., 0., 0., 1., 0., 0., 0., 0., 0., 0., 1., 1., 0., 0., 1., 0., 1.,\n",
              "         1., 1., 1., 1., 1., 1., 1., 0., 0., 1., 0., 0., 1., 1., 0., 0., 0., 0.,\n",
              "         1., 0., 1., 1., 1., 0., 1., 0., 0., 1., 1., 1., 1., 0., 0., 0., 1., 0.,\n",
              "         0., 1., 1., 1., 1., 0., 0., 1., 0., 1., 0., 1., 1., 1., 0., 0., 0., 0.,\n",
              "         1., 1., 1., 1., 1., 0., 1., 1., 0., 1., 0., 0., 1., 1., 0., 0., 1., 0.,\n",
              "         0., 1., 1., 1., 0., 1., 1., 0., 1., 0., 1., 0., 1., 0., 0., 1., 1., 0.,\n",
              "         1., 1., 0., 1., 1., 0., 1., 0., 0., 0., 1., 0., 0., 1., 0., 0., 0., 1.,\n",
              "         0., 0., 1., 0., 1., 0., 1., 0., 1., 0., 1., 1., 1., 0., 0., 1., 0., 1.,\n",
              "         1., 0., 1., 0., 0., 0., 0., 1., 1., 1., 1., 0., 0., 0., 0., 0., 1., 0.,\n",
              "         0., 1., 0., 1., 1., 0., 0., 0., 1., 1., 0., 1., 1., 0., 1., 0., 1., 0.,\n",
              "         1., 1.]))"
            ]
          },
          "metadata": {},
          "execution_count": 12
        }
      ]
    },
    {
      "cell_type": "markdown",
      "source": [
        "## 2. Build a model by subclassing `nn.Module` that incorporates non-linear activation functions and is capable of fitting the data you created in 1.\n",
        "  * Feel free to use any combination of PyTorch layers (linear and non-linear) you want."
      ],
      "metadata": {
        "id": "cMIjxZdzQfPz"
      }
    },
    {
      "cell_type": "code",
      "source": [
        "import torch\n",
        "from torch import nn\n",
        "\n",
        "# Inherit from nn.Module to make a model capable of fitting the mooon data\n",
        "class MoonModelV0(nn.Module):\n",
        "        def __init__(self):\n",
        "          super().__init__()\n",
        "          self.layer_1 = nn.Linear(in_features=2, out_features=100)\n",
        "          self.layer_2 = nn.Linear(in_features=100, out_features=100)\n",
        "          self.layer_3 = nn.Linear(in_features=100, out_features=10)\n",
        "          self.layer_4 = nn.Linear(in_features=10, out_features=1)\n",
        "          self.relu = nn.ReLU()\n",
        "\n",
        "        def forward(self, x):\n",
        "          return self.layer_4(self.relu(self.layer_3(self.relu(self.layer_2(self.relu(self.layer_1(x)))))))\n",
        "# Instantiate the model\n",
        "model_0 = MoonModelV0().to(device)\n",
        "model_0\n"
      ],
      "metadata": {
        "id": "hwtyvm34Ri6Q",
        "colab": {
          "base_uri": "https://localhost:8080/"
        },
        "outputId": "6ef21454-7ced-47e2-c436-7c0e0bbd6d45"
      },
      "execution_count": null,
      "outputs": [
        {
          "output_type": "execute_result",
          "data": {
            "text/plain": [
              "MoonModelV0(\n",
              "  (layer_1): Linear(in_features=2, out_features=100, bias=True)\n",
              "  (layer_2): Linear(in_features=100, out_features=100, bias=True)\n",
              "  (layer_3): Linear(in_features=100, out_features=10, bias=True)\n",
              "  (layer_4): Linear(in_features=10, out_features=1, bias=True)\n",
              "  (relu): ReLU()\n",
              ")"
            ]
          },
          "metadata": {},
          "execution_count": 13
        }
      ]
    },
    {
      "cell_type": "markdown",
      "source": [
        "## 3. Setup a binary classification compatible loss function and optimizer to use when training the model built in 2."
      ],
      "metadata": {
        "id": "DSj97RwyVeFE"
      }
    },
    {
      "cell_type": "code",
      "source": [
        "# Setup loss function\n",
        "loss_fn = nn.BCEWithLogitsLoss()\n",
        "# Setup optimizer to optimize model's parameters\n",
        "optimizer = torch.optim.SGD(params = model_0.parameters(), lr= 0.1)"
      ],
      "metadata": {
        "id": "whSGw5qgVvxU"
      },
      "execution_count": null,
      "outputs": []
    },
    {
      "cell_type": "markdown",
      "source": [
        "## 4. Create a training and testing loop to fit the model you created in 2 to the data you created in 1.\n",
        "  * Do a forward pass of the model to see what's coming out in the form of logits, prediction probabilities and labels.\n",
        "  * To measure model accuray, you can create your own accuracy function or use the accuracy function in [TorchMetrics](https://torchmetrics.readthedocs.io/en/latest/).\n",
        "  * Train the model for long enough for it to reach over 96% accuracy.\n",
        "  * The training loop should output progress every 10 epochs of the model's training and test set loss and accuracy."
      ],
      "metadata": {
        "id": "nvk4PfNTWUAt"
      }
    },
    {
      "cell_type": "code",
      "source": [
        "y_logits = model_0(X_test.to(device))[:5]\n",
        "y_logits\n",
        "# Use sigmoid on model logits\n",
        "y_pred_probs = torch.sigmoid(y_logits)\n",
        "y_pred_probs\n",
        "# Find the predicted labels (round the prediction probabilities)\n",
        "y_preds = torch.round(y_pred_probs)\n",
        "\n",
        "# In full\n",
        "y_pred_labels = torch.round(torch.sigmoid(model_0(X_test.to(device))[:5]))\n",
        "\n",
        "# Check for equality\n",
        "print(torch.eq(y_preds.squeeze(), y_pred_labels.squeeze()))\n",
        "\n",
        "# Get rid of extra dimension\n",
        "y_preds.squeeze()"
      ],
      "metadata": {
        "colab": {
          "base_uri": "https://localhost:8080/"
        },
        "id": "gEep9M6P-G2p",
        "outputId": "61f66ee4-87cb-4ff3-b82a-8c8f60f07d99"
      },
      "execution_count": null,
      "outputs": [
        {
          "output_type": "stream",
          "name": "stdout",
          "text": [
            "tensor([True, True, True, True, True], device='cuda:0')\n"
          ]
        },
        {
          "output_type": "execute_result",
          "data": {
            "text/plain": [
              "tensor([1., 1., 1., 1., 1.], device='cuda:0', grad_fn=<SqueezeBackward0>)"
            ]
          },
          "metadata": {},
          "execution_count": 15
        }
      ]
    },
    {
      "cell_type": "code",
      "source": [
        "# What's coming out of our model?\n",
        "\n",
        "\n",
        "X_train, y_train = X_train.to(device), y_train.to(device)\n",
        "X_test, y_test = X_test.to(device), y_test.to(device)\n",
        "\n"
      ],
      "metadata": {
        "id": "AgnFdlamd2-D"
      },
      "execution_count": null,
      "outputs": []
    },
    {
      "cell_type": "code",
      "source": [
        "X_train.shape"
      ],
      "metadata": {
        "colab": {
          "base_uri": "https://localhost:8080/"
        },
        "id": "KRjLyqg77qFS",
        "outputId": "d2163783-0183-4732-c762-ee7ac8e0cd30"
      },
      "execution_count": null,
      "outputs": [
        {
          "output_type": "execute_result",
          "data": {
            "text/plain": [
              "torch.Size([800, 2])"
            ]
          },
          "metadata": {},
          "execution_count": 17
        }
      ]
    },
    {
      "cell_type": "code",
      "source": [
        "# Let's calculuate the accuracy using accuracy from TorchMetrics\n",
        "!pip -q install torchmetrics # Colab doesn't come with torchmetrics\n",
        "from torchmetrics import Accuracy\n",
        "\n",
        "# TODO: Uncomment this code to use the Accuracy function\n",
        "acc_fn = Accuracy(task=\"multiclass\", num_classes=2).to(device) # send accuracy function to device\n",
        "acc_fn"
      ],
      "metadata": {
        "id": "rUSDNHB4euoJ",
        "colab": {
          "base_uri": "https://localhost:8080/"
        },
        "outputId": "89b59cf2-6e56-4bad-bb79-3da0e8cc228f"
      },
      "execution_count": null,
      "outputs": [
        {
          "output_type": "stream",
          "name": "stdout",
          "text": [
            "\u001b[?25l     \u001b[90m━━━━━━━━━━━━━━━━━━━━━━━━━━━━━━━━━━━━━━━━\u001b[0m \u001b[32m0.0/868.8 kB\u001b[0m \u001b[31m?\u001b[0m eta \u001b[36m-:--:--\u001b[0m\r\u001b[2K     \u001b[91m━━━━━━━━━━━━━━━━━━\u001b[0m\u001b[91m╸\u001b[0m\u001b[90m━━━━━━━━━━━━━━━━━━━━━\u001b[0m \u001b[32m409.6/868.8 kB\u001b[0m \u001b[31m11.0 MB/s\u001b[0m eta \u001b[36m0:00:01\u001b[0m\r\u001b[2K     \u001b[91m━━━━━━━━━━━━━━━━━━━━━━━━━━━━━━━━━━━━━━━\u001b[0m\u001b[91m╸\u001b[0m \u001b[32m860.2/868.8 kB\u001b[0m \u001b[31m12.6 MB/s\u001b[0m eta \u001b[36m0:00:01\u001b[0m\r\u001b[2K     \u001b[90m━━━━━━━━━━━━━━━━━━━━━━━━━━━━━━━━━━━━━━━━\u001b[0m \u001b[32m868.8/868.8 kB\u001b[0m \u001b[31m10.0 MB/s\u001b[0m eta \u001b[36m0:00:00\u001b[0m\n",
            "\u001b[?25h"
          ]
        },
        {
          "output_type": "execute_result",
          "data": {
            "text/plain": [
              "MulticlassAccuracy()"
            ]
          },
          "metadata": {},
          "execution_count": 18
        }
      ]
    },
    {
      "cell_type": "code",
      "source": [
        "y_train.shape"
      ],
      "metadata": {
        "colab": {
          "base_uri": "https://localhost:8080/"
        },
        "id": "NfhJKHKi6MWw",
        "outputId": "c80986e3-86a2-4da1-bb52-a5a00994de5f"
      },
      "execution_count": null,
      "outputs": [
        {
          "output_type": "execute_result",
          "data": {
            "text/plain": [
              "torch.Size([800])"
            ]
          },
          "metadata": {},
          "execution_count": 19
        }
      ]
    },
    {
      "cell_type": "code",
      "source": [
        "RANDOM_SEED = 42"
      ],
      "metadata": {
        "id": "ZPSTQtbc2rdA"
      },
      "execution_count": null,
      "outputs": []
    },
    {
      "cell_type": "code",
      "source": [
        "# TODO: Uncomment this to set the seed\n",
        "torch.manual_seed(RANDOM_SEED)\n",
        "\n",
        "# Setup epochs\n",
        "epochs = 1000\n",
        "\n",
        "# Loop through the data\n",
        "for epoch in range(epochs):\n",
        "  ## Training\n",
        "  model_0.train()\n",
        "  # 1. Forward pass (logits output)\n",
        "  y_logits = model_0(X_train).squeeze()\n",
        "  # Turn logits into prediction probabilities\n",
        "  y_pred = torch.sigmoid(y_logits)\n",
        "  # Turn prediction probabilities into prediction labels\n",
        "  y_pred_labels = torch.round(torch.sigmoid(y_logits))\n",
        "\n",
        "\n",
        "  # 2. Calculaute the loss\n",
        "  loss = loss_fn(y_logits, y_train) # loss = compare model raw outputs to desired model outputs\n",
        "\n",
        "  # Calculate the accuracy\n",
        "  acc = acc_fn(y_pred_labels, y_train.int()) # the accuracy function needs to compare pred labels (not logits) with actual labels\n",
        "\n",
        "  # 3. Zero the gradients\n",
        "  optimizer.zero_grad()\n",
        "  loss.backward()\n",
        "  optimizer.step()\n",
        "\n",
        "\n",
        "  # 4. Loss backward (perform backpropagation) - https://brilliant.org/wiki/backpropagation/#:~:text=Backpropagation%2C%20short%20for%20%22backward%20propagation,to%20the%20neural%20network's%20weights.\n",
        "\n",
        "  # 5. Step the optimizer (gradient descent) - https://towardsdatascience.com/gradient-descent-algorithm-a-deep-dive-cf04e8115f21#:~:text=Gradient%20descent%20(GD)%20is%20an,e.g.%20in%20a%20linear%20regression)\n",
        "\n",
        "\n",
        "  ### Testing\n",
        "  model_0.eval()\n",
        "  with torch.inference_mode():\n",
        "    # 1. Forward pass (to get the logits)\n",
        "    y_logits_test = model_0(X_test).squeeze()\n",
        "    # Turn the test logits into prediction labels\n",
        "    y_pred_test_labels = torch.round(torch.sigmoid(y_logits_test))\n",
        "    # 2. Caculate the test loss/acc\n",
        "    test_loss = loss_fn(y_logits_test, y_test)\n",
        "    # Calculate the accuracy\n",
        "    test_acc = acc_fn(y_pred_test_labels, y_test.int())\n",
        "\n",
        "\n",
        "\n",
        "  # Print out what's happening every 100 epochs\n",
        "  if epoch % 100 == 0:\n",
        "    print(f\"Epoch: {epoch} | Loss: {loss:.5f}, Accuracy: {acc:.2f}% | Test Loss: {test_loss:.5f}, Test Accuracy: {test_acc:.2f}%\")\n"
      ],
      "metadata": {
        "id": "SHBY3h7XXnxt",
        "colab": {
          "base_uri": "https://localhost:8080/"
        },
        "outputId": "38fd2583-16f5-4869-9ac1-9c1582675789"
      },
      "execution_count": null,
      "outputs": [
        {
          "output_type": "stream",
          "name": "stdout",
          "text": [
            "Epoch: 0 | Loss: 0.69458, Accuracy: 0.50% | Test Loss: 0.69213, Test Accuracy: 0.50%\n",
            "Epoch: 100 | Loss: 0.21161, Accuracy: 0.90% | Test Loss: 0.20870, Test Accuracy: 0.91%\n",
            "Epoch: 200 | Loss: 0.11460, Accuracy: 0.95% | Test Loss: 0.10947, Test Accuracy: 0.96%\n",
            "Epoch: 300 | Loss: 0.03394, Accuracy: 1.00% | Test Loss: 0.03107, Test Accuracy: 1.00%\n",
            "Epoch: 400 | Loss: 0.01201, Accuracy: 1.00% | Test Loss: 0.01077, Test Accuracy: 1.00%\n",
            "Epoch: 500 | Loss: 0.00622, Accuracy: 1.00% | Test Loss: 0.00554, Test Accuracy: 1.00%\n",
            "Epoch: 600 | Loss: 0.00395, Accuracy: 1.00% | Test Loss: 0.00351, Test Accuracy: 1.00%\n",
            "Epoch: 700 | Loss: 0.00281, Accuracy: 1.00% | Test Loss: 0.00250, Test Accuracy: 1.00%\n",
            "Epoch: 800 | Loss: 0.00214, Accuracy: 1.00% | Test Loss: 0.00191, Test Accuracy: 1.00%\n",
            "Epoch: 900 | Loss: 0.00171, Accuracy: 1.00% | Test Loss: 0.00152, Test Accuracy: 1.00%\n"
          ]
        }
      ]
    },
    {
      "cell_type": "markdown",
      "source": [
        "## 5. Make predictions with your trained model and plot them using the `plot_decision_boundary()` function created in this notebook."
      ],
      "metadata": {
        "id": "8Nwihtomj9JO"
      }
    },
    {
      "cell_type": "code",
      "source": [
        "# Plot the model predictions\n",
        "import numpy as np\n",
        "\n",
        "def plot_decision_boundary(model, X, y):\n",
        "\n",
        "    # Put everything to CPU (works better with NumPy + Matplotlib)\n",
        "    model.to(\"cpu\")\n",
        "    X, y = X.to(\"cpu\"), y.to(\"cpu\")\n",
        "\n",
        "    # Source - https://madewithml.com/courses/foundations/neural-networks/\n",
        "    # (with modifications)\n",
        "    x_min, x_max = X[:, 0].min() - 0.1, X[:, 0].max() + 0.1\n",
        "    y_min, y_max = X[:, 1].min() - 0.1, X[:, 1].max() + 0.1\n",
        "    xx, yy = np.meshgrid(np.linspace(x_min, x_max, 101),\n",
        "                         np.linspace(y_min, y_max, 101))\n",
        "\n",
        "    # Make features\n",
        "    X_to_pred_on = torch.from_numpy(np.column_stack((xx.ravel(), yy.ravel()))).float()\n",
        "\n",
        "    # Make predictions\n",
        "    model.eval()\n",
        "    with torch.inference_mode():\n",
        "        y_logits = model(X_to_pred_on)\n",
        "\n",
        "    # Test for multi-class or binary and adjust logits to prediction labels\n",
        "    if len(torch.unique(y)) > 2:\n",
        "        y_pred = torch.softmax(y_logits, dim=1).argmax(dim=1) # mutli-class\n",
        "    else:\n",
        "        y_pred = torch.round(torch.sigmoid(y_logits)) # binary\n",
        "\n",
        "    # Reshape preds and plot\n",
        "    y_pred = y_pred.reshape(xx.shape).detach().numpy()\n",
        "    plt.contourf(xx, yy, y_pred, cmap=plt.cm.RdYlBu, alpha=0.7)\n",
        "    plt.scatter(X[:, 0], X[:, 1], c=y, s=40, cmap=plt.cm.RdYlBu)\n",
        "    plt.xlim(xx.min(), xx.max())\n",
        "    plt.ylim(yy.min(), yy.max())"
      ],
      "metadata": {
        "id": "0YRzatb8a1P2"
      },
      "execution_count": null,
      "outputs": []
    },
    {
      "cell_type": "code",
      "source": [
        "# Plot decision boundaries for training and test sets\n",
        "plot_decision_boundary(model_0, X, y)"
      ],
      "metadata": {
        "id": "PMrcpyirig1d",
        "colab": {
          "base_uri": "https://localhost:8080/",
          "height": 430
        },
        "outputId": "7d729676-81ad-4f37-da6c-c3c52f01c06d"
      },
      "execution_count": null,
      "outputs": [
        {
          "output_type": "display_data",
          "data": {
            "text/plain": [
              "<Figure size 640x480 with 1 Axes>"
            ],
            "image/png": "[encoded data removed]"
          },
          "metadata": {}
        }
      ]
    },
    {
      "cell_type": "markdown",
      "source": [
        "## 6. Replicate the Tanh (hyperbolic tangent) activation function in pure PyTorch.\n",
        "  * Feel free to reference the [ML cheatsheet website](https://ml-cheatsheet.readthedocs.io/en/latest/activation_functions.html#tanh) for the formula."
      ],
      "metadata": {
        "id": "EtMYBvtciiAU"
      }
    },
    {
      "cell_type": "code",
      "source": [
        "# Create a straight line tensor\n",
        "A = torch.arange(-10, 10, 1, dtype = torch.float32)\n",
        "A, plt.plot(A)"
      ],
      "metadata": {
        "id": "BlXaWC5TkEUE",
        "colab": {
          "base_uri": "https://localhost:8080/",
          "height": 485
        },
        "outputId": "07e775cd-68f4-4237-f9f1-ba9c6379aeae"
      },
      "execution_count": null,
      "outputs": [
        {
          "output_type": "execute_result",
          "data": {
            "text/plain": [
              "(tensor([-10.,  -9.,  -8.,  -7.,  -6.,  -5.,  -4.,  -3.,  -2.,  -1.,   0.,   1.,\n",
              "           2.,   3.,   4.,   5.,   6.,   7.,   8.,   9.]),\n",
              " [<matplotlib.lines.Line2D at 0x79421f85dd50>])"
            ]
          },
          "metadata": {},
          "execution_count": 24
        },
        {
          "output_type": "display_data",
          "data": {
            "text/plain": [
              "<Figure size 640x480 with 1 Axes>"
            ],
            "image/png": "[encoded data removed]"
          },
          "metadata": {}
        }
      ]
    },
    {
      "cell_type": "code",
      "source": [
        "# Test torch.tanh() on the tensor and plot it\n",
        "x1 = torch.tanh(A)\n",
        "x1, plt.plot(torch.tanh(A))"
      ],
      "metadata": {
        "id": "vZPCcQmIkZjO",
        "colab": {
          "base_uri": "https://localhost:8080/",
          "height": 503
        },
        "outputId": "e4492b9b-d8c6-4a3a-f360-176674866b47"
      },
      "execution_count": null,
      "outputs": [
        {
          "output_type": "execute_result",
          "data": {
            "text/plain": [
              "(tensor([-1.0000, -1.0000, -1.0000, -1.0000, -1.0000, -0.9999, -0.9993, -0.9951,\n",
              "         -0.9640, -0.7616,  0.0000,  0.7616,  0.9640,  0.9951,  0.9993,  0.9999,\n",
              "          1.0000,  1.0000,  1.0000,  1.0000]),\n",
              " [<matplotlib.lines.Line2D at 0x79421f5801c0>])"
            ]
          },
          "metadata": {},
          "execution_count": 35
        },
        {
          "output_type": "display_data",
          "data": {
            "text/plain": [
              "<Figure size 640x480 with 1 Axes>"
            ],
            "image/png": "[encoded data removed]"
          },
          "metadata": {}
        }
      ]
    },
    {
      "cell_type": "code",
      "source": [
        "# Replicate torch.tanh() and plot it\n",
        "def tanh(x):\n",
        "  return (torch.exp(x) - torch.exp(-x))/ (torch.exp(x) + torch.exp(-x))\n",
        "\n",
        "tanh(A), plt.plot(tanh(A))"
      ],
      "metadata": {
        "id": "J-ne__Kjkdc1",
        "colab": {
          "base_uri": "https://localhost:8080/",
          "height": 503
        },
        "outputId": "7872f5d8-d6ce-4ab2-ddbc-f02d8b6e0404"
      },
      "execution_count": null,
      "outputs": [
        {
          "output_type": "execute_result",
          "data": {
            "text/plain": [
              "(tensor([-1.0000, -1.0000, -1.0000, -1.0000, -1.0000, -0.9999, -0.9993, -0.9951,\n",
              "         -0.9640, -0.7616,  0.0000,  0.7616,  0.9640,  0.9951,  0.9993,  0.9999,\n",
              "          1.0000,  1.0000,  1.0000,  1.0000]),\n",
              " [<matplotlib.lines.Line2D at 0x79421fde2770>])"
            ]
          },
          "metadata": {},
          "execution_count": 40
        },
        {
          "output_type": "display_data",
          "data": {
            "text/plain": [
              "<Figure size 640x480 with 1 Axes>"
            ],
            "image/png": "[encoded data removed]"
          },
          "metadata": {}
        }
      ]
    },
    {
      "cell_type": "code",
      "source": [
        "torch.allclose(torch.tanh(A), tanh(A)) # torch.allclose is used instead of torch.equal to account for any minor numerical differences"
      ],
      "metadata": {
        "colab": {
          "base_uri": "https://localhost:8080/"
        },
        "id": "YDuyhoSgBLn9",
        "outputId": "de941682-dd05-428e-fc59-179795bdd95d"
      },
      "execution_count": null,
      "outputs": [
        {
          "output_type": "execute_result",
          "data": {
            "text/plain": [
              "True"
            ]
          },
          "metadata": {},
          "execution_count": 43
        }
      ]
    },
    {
      "cell_type": "markdown",
      "source": [
        "## 7. Create a multi-class dataset using the [spirals data creation function from CS231n](https://cs231n.github.io/neural-networks-case-study/) (see below for the code).\n",
        "  * Split the data into training and test sets (80% train, 20% test) as well as turn it into PyTorch tensors.\n",
        "  * Construct a model capable of fitting the data (you may need a combination of linear and non-linear layers).\n",
        "  * Build a loss function and optimizer capable of handling multi-class data (optional extension: use the Adam optimizer instead of SGD, you may have to experiment with different values of the learning rate to get it working).\n",
        "  * Make a training and testing loop for the multi-class data and train a model on it to reach over 95% testing accuracy (you can use any accuracy measuring function here that you like) - 1000 epochs should be plenty.\n",
        "  * Plot the decision boundaries on the spirals dataset from your model predictions, the `plot_decision_boundary()` function should work for this dataset too."
      ],
      "metadata": {
        "id": "Lbt1bNcWk5G9"
      }
    },
    {
      "cell_type": "code",
      "source": [
        "import torch\n",
        "from torch import nn\n"
      ],
      "metadata": {
        "id": "Q9bNL7L6boEL"
      },
      "execution_count": null,
      "outputs": []
    },
    {
      "cell_type": "code",
      "source": [
        "# Code for creating a spiral dataset from CS231n\n",
        "import numpy as np\n",
        "import matplotlib.pyplot as plt\n",
        "RANDOM_SEED = 42\n",
        "np.random.seed(RANDOM_SEED)\n",
        "N = 100 # number of points per class\n",
        "D = 2 # dimensionality\n",
        "K = 3 # number of classes\n",
        "X = np.zeros((N*K,D)) # data matrix (each row = single example)\n",
        "y = np.zeros(N*K, dtype='uint8') # class labels\n",
        "for j in range(K):\n",
        "  ix = range(N*j,N*(j+1))\n",
        "  r = np.linspace(0.0,1,N) # radius\n",
        "  t = np.linspace(j*4,(j+1)*4,N) + np.random.randn(N)*0.2 # theta\n",
        "  X[ix] = np.c_[r*np.sin(t), r*np.cos(t)]\n",
        "  y[ix] = j\n",
        "# lets visualize the data\n",
        "plt.scatter(X[:, 0], X[:, 1], c=y, s=40, cmap=plt.cm.summer)\n",
        "plt.show()"
      ],
      "metadata": {
        "colab": {
          "base_uri": "https://localhost:8080/",
          "height": 430
        },
        "id": "tU-UNZsKlJls",
        "outputId": "cf71a4d6-d041-45fb-d32a-c9b72b3829fb"
      },
      "execution_count": null,
      "outputs": [
        {
          "output_type": "display_data",
          "data": {
            "text/plain": [
              "<Figure size 640x480 with 1 Axes>"
            ],
            "image/png": "[encoded data removed]"
          },
          "metadata": {}
        }
      ]
    },
    {
      "cell_type": "code",
      "source": [
        "# Turn data into tensors\n",
        "import torch\n",
        "X = torch.from_numpy(X).type(torch.float) # features as float32\n",
        "y = torch.from_numpy(y).type(torch.LongTensor) # labels need to be of type long\n",
        "\n",
        "# Create train and test splits\n",
        "from sklearn.model_selection import train_test_split\n",
        "X_train, X_test, y_train, y_test = train_test_split(X, y, test_size = 0.2,random_state = 42)"
      ],
      "metadata": {
        "id": "OWVrmkEyl0VP"
      },
      "execution_count": null,
      "outputs": []
    },
    {
      "cell_type": "code",
      "source": [
        "def accuracy_fn(y_true, y_pred):\n",
        "    correct = torch.eq(y_true, y_pred).sum().item() # torch.eq() calculates where two tensors are equal\n",
        "    acc = (correct / len(y_pred)) * 100\n",
        "    return acc\n",
        "\n"
      ],
      "metadata": {
        "id": "a-v-7f0op0tG"
      },
      "execution_count": null,
      "outputs": []
    },
    {
      "cell_type": "code",
      "source": [
        "# Prepare device agnostic code\n",
        "device = \"cuda\" if torch.cuda.is_available() else \"cpu\"\n",
        "\n",
        "# Create model by subclassing nn.Module\n",
        "class SpiralModel(nn.Module):\n",
        "    def __init__(self, input_features, output_features, hidden_units=8):\n",
        "        super().__init__()\n",
        "        self.linear_layer_stack = nn.Sequential(\n",
        "            nn.Linear(in_features= 2, out_features=100),\n",
        "            nn.ReLU(),\n",
        "            nn.Linear(in_features=100, out_features=10),\n",
        "            nn.ReLU(),\n",
        "            nn.Linear(in_features = 10 , out_features=3 ),\n",
        "        )\n",
        "\n",
        "    def forward(self, x):\n",
        "        return self.linear_layer_stack(x)\n",
        "\n",
        "\n",
        "# Instantiate model and send it to device\n",
        "\n",
        "model_1 = SpiralModel(input_features = D,\n",
        "                    output_features= K,\n",
        "                    hidden_units=8).to(device)\n",
        "model_1\n"
      ],
      "metadata": {
        "id": "DB3u3ldumapf",
        "colab": {
          "base_uri": "https://localhost:8080/"
        },
        "outputId": "bcb29988-0b06-4227-e525-47e34715201c"
      },
      "execution_count": null,
      "outputs": [
        {
          "output_type": "execute_result",
          "data": {
            "text/plain": [
              "SpiralModel(\n",
              "  (linear_layer_stack): Sequential(\n",
              "    (0): Linear(in_features=2, out_features=100, bias=True)\n",
              "    (1): ReLU()\n",
              "    (2): Linear(in_features=100, out_features=10, bias=True)\n",
              "    (3): ReLU()\n",
              "    (4): Linear(in_features=10, out_features=3, bias=True)\n",
              "  )\n",
              ")"
            ]
          },
          "metadata": {},
          "execution_count": 25
        }
      ]
    },
    {
      "cell_type": "code",
      "source": [
        "# Setup data to be device agnostic\n",
        "device = \"cuda\" if torch.cuda.is_available() else \"cpu\"\n",
        "# Print out first 10 untrained model outputs (forward pass)\n",
        "print(\"Logits:\")\n",
        "\n",
        "\n",
        "print(\"Pred probs:\")\n",
        "## Your code here ##\n",
        "\n",
        "print(\"Pred labels:\")\n",
        "## Your code here ##"
      ],
      "metadata": {
        "colab": {
          "base_uri": "https://localhost:8080/"
        },
        "id": "QE7XWSSunMTS",
        "outputId": "4c881180-7d62-466d-e7ec-e666360e022b"
      },
      "execution_count": null,
      "outputs": [
        {
          "output_type": "stream",
          "name": "stdout",
          "text": [
            "Logits:\n",
            "Pred probs:\n",
            "Pred labels:\n"
          ]
        }
      ]
    },
    {
      "cell_type": "code",
      "source": [
        "# Setup loss function and optimizer\n",
        "loss_fn = nn.CrossEntropyLoss()\n",
        "optimizer = torch.optim.SGD(model_1.parameters(),\n",
        "                            lr=0.1)"
      ],
      "metadata": {
        "id": "54EqLRKLo0AW"
      },
      "execution_count": null,
      "outputs": []
    },
    {
      "cell_type": "code",
      "source": [
        "len(X_train), len(X_test), len(y_train), len(y_test)"
      ],
      "metadata": {
        "colab": {
          "base_uri": "https://localhost:8080/"
        },
        "id": "5u69UvT5Jqg0",
        "outputId": "b3f289f4-369a-4a86-fbcf-2c4369eeecb4"
      },
      "execution_count": null,
      "outputs": [
        {
          "output_type": "execute_result",
          "data": {
            "text/plain": [
              "(240, 60, 240, 60)"
            ]
          },
          "metadata": {},
          "execution_count": 28
        }
      ]
    },
    {
      "cell_type": "code",
      "source": [
        "# Build a training loop for the model\n",
        "torch.manual_seed(42)\n",
        "epochs = 1000\n",
        "X_train, y_train = X_train.to(device), y_train.to(device)\n",
        "X_test, y_test = X_test.to(device), y_test.to(device)\n",
        "# Loop over data\n",
        "\n",
        "for epoch in range(epochs):\n",
        "  model_1.train()\n",
        "  ## Training\n",
        "\n",
        "  # 1. Forward pass\n",
        "  y_logits = model_1(X_train)\n",
        "  y_pred_labels = torch.softmax(y_logits, dim = 1).argmax(dim = 1)\n",
        "\n",
        "\n",
        "  # 2. Calculate the loss\n",
        "  loss = loss_fn(y_logits, y_train)\n",
        "  acc = accuracy_fn(y_true=y_train,\n",
        "                      y_pred=y_pred_labels)\n",
        "\n",
        "  # 3. Optimizer zero grad\n",
        "  optimizer.zero_grad()\n",
        "\n",
        "  # 4. Loss backward\n",
        "  loss.backward()\n",
        "\n",
        "  # 5. Optimizer step\n",
        "  optimizer.step()\n",
        "\n",
        "  ## Testing\n",
        "  model_1.eval()\n",
        "  with torch.inference_mode():\n",
        "    # 1. Forward pass\n",
        "    y_test_logits = model_1(X_test)\n",
        "    y_test_pred = torch.softmax(y_test_logits, dim = 1).argmax(dim = 1)\n",
        "    # 2. Caculate loss and acc\n",
        "    test_loss = loss_fn(y_test_logits, y_test_logits)\n",
        "    test_acc =  accuracy_fn(y_true=y_test,\n",
        "                      y_pred=y_test_pred)\n",
        "\n",
        "  # Print out what's happening every 100 epochs\n",
        "  if epoch % 100 == 0:\n",
        "    print(f\"Epoch: {epoch} | Loss: {loss:.5f}, Accuracy: {acc:.2f}% | Test Loss: {test_loss:.5f}, Test Accuracy: {test_acc:.2f}%\")"
      ],
      "metadata": {
        "id": "vIlExkUHnmxi",
        "colab": {
          "base_uri": "https://localhost:8080/"
        },
        "outputId": "6bd892b9-74f7-4c9c-8208-dd938bb30dde"
      },
      "execution_count": null,
      "outputs": [
        {
          "output_type": "stream",
          "name": "stdout",
          "text": [
            "Epoch: 0 | Loss: 1.11039, Accuracy: 32.50% | Test Loss: -0.27076, Test Accuracy: 36.67%\n",
            "Epoch: 100 | Loss: 0.72353, Accuracy: 54.58% | Test Loss: -3.20030, Test Accuracy: 55.00%\n",
            "Epoch: 200 | Loss: 0.62304, Accuracy: 61.25% | Test Loss: -6.56475, Test Accuracy: 58.33%\n",
            "Epoch: 300 | Loss: 0.50784, Accuracy: 70.42% | Test Loss: -9.14411, Test Accuracy: 70.00%\n",
            "Epoch: 400 | Loss: 0.38282, Accuracy: 81.67% | Test Loss: -12.77793, Test Accuracy: 80.00%\n",
            "Epoch: 500 | Loss: 0.28582, Accuracy: 88.33% | Test Loss: -18.73687, Test Accuracy: 90.00%\n",
            "Epoch: 600 | Loss: 0.22249, Accuracy: 92.08% | Test Loss: -26.62106, Test Accuracy: 93.33%\n",
            "Epoch: 700 | Loss: 0.18048, Accuracy: 95.42% | Test Loss: -35.17666, Test Accuracy: 98.33%\n",
            "Epoch: 800 | Loss: 0.15131, Accuracy: 96.67% | Test Loss: -43.16612, Test Accuracy: 98.33%\n",
            "Epoch: 900 | Loss: 0.13042, Accuracy: 96.25% | Test Loss: -50.87932, Test Accuracy: 98.33%\n"
          ]
        }
      ]
    },
    {
      "cell_type": "code",
      "source": [
        "# Plot decision boundaries for training and test sets\n",
        "# Plot the model predictions\n",
        "import numpy as np\n",
        "\n",
        "def plot_decision_boundary(model, X, y):\n",
        "\n",
        "    # Put everything to CPU (works better with NumPy + Matplotlib)\n",
        "    model.to(\"cpu\")\n",
        "    X, y = X.to(\"cpu\"), y.to(\"cpu\")\n",
        "\n",
        "    # Source - https://madewithml.com/courses/foundations/neural-networks/\n",
        "    # (with modifications)\n",
        "    x_min, x_max = X[:, 0].min() - 0.1, X[:, 0].max() + 0.1\n",
        "    y_min, y_max = X[:, 1].min() - 0.1, X[:, 1].max() + 0.1\n",
        "    xx, yy = np.meshgrid(np.linspace(x_min, x_max, 101),\n",
        "                         np.linspace(y_min, y_max, 101))\n",
        "\n",
        "    # Make features\n",
        "    X_to_pred_on = torch.from_numpy(np.column_stack((xx.ravel(), yy.ravel()))).float()\n",
        "\n",
        "    # Make predictions\n",
        "    model.eval()\n",
        "    with torch.inference_mode():\n",
        "        y_logits = model(X_to_pred_on)\n",
        "\n",
        "    # Test for multi-class or binary and adjust logits to prediction labels\n",
        "    if len(torch.unique(y)) > 2:\n",
        "        y_pred = torch.softmax(y_logits, dim=1).argmax(dim=1) # mutli-class\n",
        "    else:\n",
        "        y_pred = torch.round(torch.sigmoid(y_logits)) # binary\n",
        "\n",
        "    # Reshape preds and plot\n",
        "    y_pred = y_pred.reshape(xx.shape).detach().numpy()\n",
        "    plt.contourf(xx, yy, y_pred, cmap=plt.cm.RdYlBu, alpha=0.7)\n",
        "    plt.scatter(X[:, 0], X[:, 1], c=y, s=40, cmap=plt.cm.RdYlBu)\n",
        "    plt.xlim(xx.min(), xx.max())\n",
        "    plt.ylim(yy.min(), yy.max())"
      ],
      "metadata": {
        "id": "JrwVRbaE0keT"
      },
      "execution_count": null,
      "outputs": []
    },
    {
      "cell_type": "code",
      "source": [
        "plot_decision_boundary(model_1, X, y)"
      ],
      "metadata": {
        "colab": {
          "base_uri": "https://localhost:8080/",
          "height": 434
        },
        "id": "KORiMQiSLeI0",
        "outputId": "5eb37d9c-4009-4e52-c170-9aecb0e8abd5"
      },
      "execution_count": null,
      "outputs": [
        {
          "output_type": "display_data",
          "data": {
            "text/plain": [
              "<Figure size 640x480 with 1 Axes>"
            ],
            "image/png": "[encoded data removed]"
          },
          "metadata": {}
        }
      ]
    }
  ]
}