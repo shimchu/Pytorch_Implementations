{
  "nbformat": 4,
  "nbformat_minor": 0,
  "metadata": {
    "colab": {
      "provenance": []
    },
    "kernelspec": {
      "name": "python3",
      "display_name": "Python 3"
    },
    "language_info": {
      "name": "python"
    },
    "accelerator": "GPU"
  },
  "cells": [
    {
      "cell_type": "markdown",
      "source": [
        "# 00. PyTorch Fundamentals Exercises\n",
        "\n",
        "### 1. Documentation reading\n",
        "\n",
        "A big part of deep learning (and learning to code in general) is getting familiar with the documentation of a certain framework you're using. We'll be using the PyTorch documentation a lot throughout the rest of this course. So I'd recommend spending 10-minutes reading the following (it's okay if you don't get some things for now, the focus is not yet full understanding, it's awareness):\n",
        "  * The documentation on [`torch.Tensor`](https://pytorch.org/docs/stable/tensors.html#torch-tensor).\n",
        "  * The documentation on [`torch.cuda`](https://pytorch.org/docs/master/notes/cuda.html#cuda-semantics).\n",
        "\n"
      ],
      "metadata": {
        "id": "AzDBM_v4iMe7"
      }
    },
    {
      "cell_type": "code",
      "source": [
        "# No code solution (reading)"
      ],
      "metadata": {
        "id": "bGD0oD8Kizak"
      },
      "execution_count": null,
      "outputs": []
    },
    {
      "cell_type": "markdown",
      "source": [
        "### 2. Create a random tensor with shape `(7, 7)`.\n"
      ],
      "metadata": {
        "id": "__iXqqz-ioUJ"
      }
    },
    {
      "cell_type": "code",
      "source": [
        "import torch # importing torch\n",
        "\n",
        "# checking torch version\n",
        "torch.__version__\n",
        "\n"
      ],
      "metadata": {
        "id": "6pUq9Dc8i2L7",
        "colab": {
          "base_uri": "https://localhost:8080/",
          "height": 36
        },
        "outputId": "720597f2-e66e-4001-92fa-38431439195e"
      },
      "execution_count": null,
      "outputs": [
        {
          "output_type": "execute_result",
          "data": {
            "text/plain": [
              "'2.2.1+cu121'"
            ],
            "application/vnd.google.colaboratory.intrinsic+json": {
              "type": "string"
            }
          },
          "metadata": {},
          "execution_count": 2
        }
      ]
    },
    {
      "cell_type": "code",
      "source": [
        "#creating random tensor with shape (7,7) & it'll look like a 7 x 7 matrix\n",
        "Random_Matrix1 = torch.rand(size = (7,7))\n",
        "Random_Matrix1"
      ],
      "metadata": {
        "colab": {
          "base_uri": "https://localhost:8080/"
        },
        "id": "p-aAU1eoMdPr",
        "outputId": "316ecd77-9c07-44db-e0b1-b15106bfba9b"
      },
      "execution_count": null,
      "outputs": [
        {
          "output_type": "execute_result",
          "data": {
            "text/plain": [
              "tensor([[0.5612, 0.6824, 0.5404, 0.7569, 0.1567, 0.4715, 0.3153],\n",
              "        [0.8495, 0.9572, 0.4571, 0.9036, 0.5705, 0.0171, 0.3455],\n",
              "        [0.9675, 0.4411, 0.7994, 0.8863, 0.3448, 0.9164, 0.6624],\n",
              "        [0.1243, 0.8253, 0.0673, 0.2584, 0.7214, 0.6946, 0.0221],\n",
              "        [0.8394, 0.2405, 0.4475, 0.8977, 0.7954, 0.8638, 0.3137],\n",
              "        [0.4709, 0.7115, 0.8176, 0.2468, 0.8784, 0.1455, 0.8774],\n",
              "        [0.8383, 0.7369, 0.2903, 0.8740, 0.5317, 0.4742, 0.7058]])"
            ]
          },
          "metadata": {},
          "execution_count": 3
        }
      ]
    },
    {
      "cell_type": "markdown",
      "source": [
        "### 3. Perform a matrix multiplication on the tensor from 2 with another random tensor with shape `(1, 7)` (hint: you may have to transpose the second tensor)."
      ],
      "metadata": {
        "id": "9-XxvRLfiqkR"
      }
    },
    {
      "cell_type": "code",
      "source": [
        "# Create another random tensor\n",
        "Random_Matrix2 = torch.rand(size = (1,7))\n",
        "Random_Matrix2"
      ],
      "metadata": {
        "colab": {
          "base_uri": "https://localhost:8080/"
        },
        "id": "7zrvk2u7NrV5",
        "outputId": "da2ab3f9-30e5-4abe-d412-da505607b53f"
      },
      "execution_count": null,
      "outputs": [
        {
          "output_type": "execute_result",
          "data": {
            "text/plain": [
              "tensor([[0.7506, 0.0740, 0.1655, 0.6314, 0.5308, 0.8223, 0.6607]])"
            ]
          },
          "metadata": {},
          "execution_count": 7
        }
      ]
    },
    {
      "cell_type": "code",
      "source": [
        "# Perform matrix multiplication\n",
        "# now matrix 1's size = 7,7 matrix 2's is 1,7 , hence transposing 2, to get size 7,1:\n",
        "# finally we get a 7,1 matrix\n",
        "print(Random_Matrix1,\"\\n\\n\", Random_Matrix2.T)\n",
        "print() # extra line space\n",
        "# using @ (not recommended)\n",
        "print(\"MATRIX MULTIPLICATION YIELDS:\")\n",
        "Random_Matrix1 @ Random_Matrix2.T"
      ],
      "metadata": {
        "id": "NcLqR0Sbi_vT",
        "colab": {
          "base_uri": "https://localhost:8080/"
        },
        "outputId": "0355f261-e826-4b6a-d951-53553d0bee98"
      },
      "execution_count": null,
      "outputs": [
        {
          "output_type": "stream",
          "name": "stdout",
          "text": [
            "tensor([[0.5612, 0.6824, 0.5404, 0.7569, 0.1567, 0.4715, 0.3153],\n",
            "        [0.8495, 0.9572, 0.4571, 0.9036, 0.5705, 0.0171, 0.3455],\n",
            "        [0.9675, 0.4411, 0.7994, 0.8863, 0.3448, 0.9164, 0.6624],\n",
            "        [0.1243, 0.8253, 0.0673, 0.2584, 0.7214, 0.6946, 0.0221],\n",
            "        [0.8394, 0.2405, 0.4475, 0.8977, 0.7954, 0.8638, 0.3137],\n",
            "        [0.4709, 0.7115, 0.8176, 0.2468, 0.8784, 0.1455, 0.8774],\n",
            "        [0.8383, 0.7369, 0.2903, 0.8740, 0.5317, 0.4742, 0.7058]]) \n",
            "\n",
            " tensor([[0.7506],\n",
            "        [0.0740],\n",
            "        [0.1655],\n",
            "        [0.6314],\n",
            "        [0.5308],\n",
            "        [0.8223],\n",
            "        [0.6607]])\n",
            "\n",
            "MATRIX MULTIPLICATION YIELDS:\n"
          ]
        },
        {
          "output_type": "execute_result",
          "data": {
            "text/plain": [
              "tensor([[1.7182],\n",
              "        [1.8999],\n",
              "        [2.8250],\n",
              "        [1.2974],\n",
              "        [2.6285],\n",
              "        [1.8629],\n",
              "        [2.4220]])"
            ]
          },
          "metadata": {},
          "execution_count": 11
        }
      ]
    },
    {
      "cell_type": "code",
      "source": [
        "#using matmul:\n",
        "torch.matmul(Random_Matrix1,Random_Matrix2.T)"
      ],
      "metadata": {
        "colab": {
          "base_uri": "https://localhost:8080/"
        },
        "id": "BeNtGdo1OJQx",
        "outputId": "6ef8a937-36bd-4d66-d2fb-779c704571f6"
      },
      "execution_count": null,
      "outputs": [
        {
          "output_type": "execute_result",
          "data": {
            "text/plain": [
              "tensor([[1.7182],\n",
              "        [1.8999],\n",
              "        [2.8250],\n",
              "        [1.2974],\n",
              "        [2.6285],\n",
              "        [1.8629],\n",
              "        [2.4220]])"
            ]
          },
          "metadata": {},
          "execution_count": 12
        }
      ]
    },
    {
      "cell_type": "code",
      "source": [
        "#manually:\n",
        "answer = torch.zeros(size=(7, 1))\n",
        "ind = 0\n",
        "for i in Random_Matrix1:\n",
        "  for j in Random_Matrix2:\n",
        "     M = i * j\n",
        "     answer[ind] = M.sum()\n",
        "     ind += 1\n",
        "answer"
      ],
      "metadata": {
        "colab": {
          "base_uri": "https://localhost:8080/"
        },
        "id": "fgKBzoRGOXpI",
        "outputId": "fcc16c4d-5c83-4059-e073-b461b699ed3a"
      },
      "execution_count": null,
      "outputs": [
        {
          "output_type": "execute_result",
          "data": {
            "text/plain": [
              "tensor([[1.7182],\n",
              "        [1.8999],\n",
              "        [2.8250],\n",
              "        [1.2974],\n",
              "        [2.6285],\n",
              "        [1.8629],\n",
              "        [2.4220]])"
            ]
          },
          "metadata": {},
          "execution_count": 19
        }
      ]
    },
    {
      "cell_type": "markdown",
      "source": [
        "### 4. Set the random seed to `0` and do 2 & 3 over again.\n",
        "\n",
        "The output should be:\n",
        "```\n",
        "(tensor([[1.8542],\n",
        "         [1.9611],\n",
        "         [2.2884],\n",
        "         [3.0481],\n",
        "         [1.7067],\n",
        "         [2.5290],\n",
        "         [1.7989]]), torch.Size([7, 1]))\n",
        "```"
      ],
      "metadata": {
        "id": "eiutdKUFiryU"
      }
    },
    {
      "cell_type": "code",
      "source": [
        "# Set manual seed\n",
        "random_seed = 0\n",
        "torch.manual_seed(seed = random_seed)\n",
        "\n",
        "# Create two random tensors\n",
        "A  = torch.rand(size = (7,7))\n",
        "B = torch.rand(size = (1,7))\n",
        "print(A, \"\\n\\n\", B)\n",
        "print()\n",
        "\n",
        "# Matrix multiply tensors\n",
        "C = torch.matmul(A,B.T)\n",
        "print(\"MATRIX MULTIPLICATION RESULT:\")\n",
        "print(C,C.shape)"
      ],
      "metadata": {
        "id": "D-lOWI_1jRMm",
        "colab": {
          "base_uri": "https://localhost:8080/"
        },
        "outputId": "3c9981f3-48d4-4766-d0c2-07fcad7424ab"
      },
      "execution_count": null,
      "outputs": [
        {
          "output_type": "stream",
          "name": "stdout",
          "text": [
            "tensor([[0.4963, 0.7682, 0.0885, 0.1320, 0.3074, 0.6341, 0.4901],\n",
            "        [0.8964, 0.4556, 0.6323, 0.3489, 0.4017, 0.0223, 0.1689],\n",
            "        [0.2939, 0.5185, 0.6977, 0.8000, 0.1610, 0.2823, 0.6816],\n",
            "        [0.9152, 0.3971, 0.8742, 0.4194, 0.5529, 0.9527, 0.0362],\n",
            "        [0.1852, 0.3734, 0.3051, 0.9320, 0.1759, 0.2698, 0.1507],\n",
            "        [0.0317, 0.2081, 0.9298, 0.7231, 0.7423, 0.5263, 0.2437],\n",
            "        [0.5846, 0.0332, 0.1387, 0.2422, 0.8155, 0.7932, 0.2783]]) \n",
            "\n",
            " tensor([[0.4820, 0.8198, 0.9971, 0.6984, 0.5675, 0.8352, 0.2056]])\n",
            "\n",
            "MATRIX MULTIPLICATION RESULT:\n",
            "tensor([[1.8542],\n",
            "        [1.9611],\n",
            "        [2.2884],\n",
            "        [3.0481],\n",
            "        [1.7067],\n",
            "        [2.5290],\n",
            "        [1.7989]]) torch.Size([7, 1])\n"
          ]
        }
      ]
    },
    {
      "cell_type": "markdown",
      "source": [
        "### 5. Speaking of random seeds, we saw how to set it with `torch.manual_seed()` but is there a GPU equivalent? (hint: you'll need to look into the documentation for `torch.cuda` for this one)\n",
        "  * If there is, set the GPU random seed to `1234`."
      ],
      "metadata": {
        "id": "ezY6ks9Cis37"
      }
    },
    {
      "cell_type": "code",
      "source": [
        "# Set random seed on the GPU\n",
        "torch.cuda.manual_seed(seed = 1234)"
      ],
      "metadata": {
        "id": "_LKWcfSTjp00"
      },
      "execution_count": null,
      "outputs": []
    },
    {
      "cell_type": "markdown",
      "source": [
        "\n",
        "### 6. Create two random tensors of shape `(2, 3)` and send them both to the GPU (you'll need access to a GPU for this). Set `torch.manual_seed(1234)` when creating the tensors (this doesn't have to be the GPU random seed). The output should be something like:\n",
        "\n",
        "```\n",
        "Device: cuda\n",
        "(tensor([[0.0290, 0.4019, 0.2598],\n",
        "         [0.3666, 0.0583, 0.7006]], device='cuda:0'),\n",
        " tensor([[0.0518, 0.4681, 0.6738],\n",
        "         [0.3315, 0.7837, 0.5631]], device='cuda:0'))\n",
        "```"
      ],
      "metadata": {
        "id": "Ir9qSaj6it4n"
      }
    },
    {
      "cell_type": "code",
      "source": [
        "# Set random seed\n",
        "torch.manual_seed(1234)\n",
        "\n",
        "# Check for access to GPU\n",
        "device = \"cuda\" if torch.cuda.is_available() else \"cpu\"\n",
        "print(\"Device:\",device)\n",
        "\n",
        "# Create two random tensors on GPU\n",
        "A  = torch.rand(size = (2,3))\n",
        "B = torch.rand(size = (2,3))\n",
        "\n",
        "A_gpu = A.to(device)\n",
        "B_gpu = B.to(device)\n",
        "print(A_gpu,'\\n\\n',B_gpu)"
      ],
      "metadata": {
        "id": "azXExiFZj5nm",
        "colab": {
          "base_uri": "https://localhost:8080/"
        },
        "outputId": "a40a32c0-2d71-4548-f140-4f68f02bf360"
      },
      "execution_count": null,
      "outputs": [
        {
          "output_type": "stream",
          "name": "stdout",
          "text": [
            "Device: cuda\n",
            "tensor([[0.0290, 0.4019, 0.2598],\n",
            "        [0.3666, 0.0583, 0.7006]], device='cuda:0') \n",
            "\n",
            " tensor([[0.0518, 0.4681, 0.6738],\n",
            "        [0.3315, 0.7837, 0.5631]], device='cuda:0')\n"
          ]
        }
      ]
    },
    {
      "cell_type": "markdown",
      "source": [
        "\n",
        "### 7. Perform a matrix multiplication on the tensors you created in 6 (again, you may have to adjust the shapes of one of the tensors).\n",
        "\n",
        "The output should look like:\n",
        "```\n",
        "(tensor([[0.3647, 0.4709],\n",
        "         [0.5184, 0.5617]], device='cuda:0'), torch.Size([2, 2]))\n",
        "```"
      ],
      "metadata": {
        "id": "5TlAxeiSiu1y"
      }
    },
    {
      "cell_type": "code",
      "source": [
        "# Perform matmul on tensor_A and tensor_B\n",
        "output = torch.matmul(A_gpu, B_gpu.T)\n",
        "print(output, output.shape)\n",
        "output.device"
      ],
      "metadata": {
        "id": "fAeG7ox0lHEO",
        "colab": {
          "base_uri": "https://localhost:8080/"
        },
        "outputId": "5f4d6dec-f4ed-46f1-f5a6-034c1a698705"
      },
      "execution_count": null,
      "outputs": [
        {
          "output_type": "stream",
          "name": "stdout",
          "text": [
            "tensor([[0.3647, 0.4709],\n",
            "        [0.5184, 0.5617]], device='cuda:0') torch.Size([2, 2])\n"
          ]
        },
        {
          "output_type": "execute_result",
          "data": {
            "text/plain": [
              "device(type='cuda', index=0)"
            ]
          },
          "metadata": {},
          "execution_count": 41
        }
      ]
    },
    {
      "cell_type": "markdown",
      "source": [
        "### 8. Find the maximum and minimum values of the output of 7."
      ],
      "metadata": {
        "id": "G7qfa5CSivwg"
      }
    },
    {
      "cell_type": "code",
      "source": [
        "# Find max\n",
        "print(\"max:\",output.max())\n",
        "# Find min\n",
        "print(\"min:\",output.min())"
      ],
      "metadata": {
        "id": "Fu8_3mZpllOd",
        "colab": {
          "base_uri": "https://localhost:8080/"
        },
        "outputId": "b77dd135-e152-4366-e67b-30a8c88b400f"
      },
      "execution_count": null,
      "outputs": [
        {
          "output_type": "stream",
          "name": "stdout",
          "text": [
            "max: tensor(0.5617, device='cuda:0')\n",
            "min: tensor(0.3647, device='cuda:0')\n"
          ]
        }
      ]
    },
    {
      "cell_type": "markdown",
      "source": [
        "### 9. Find the maximum and minimum index values of the output of 7."
      ],
      "metadata": {
        "id": "wrTj5FgNiw47"
      }
    },
    {
      "cell_type": "code",
      "source": [
        "# Find arg max\n",
        "print(f\"max value occurs at index:{output.argmax()}\")\n",
        "# Find arg min\n",
        "print(f\"min value occurs at index: {output.argmin()}\")"
      ],
      "metadata": {
        "colab": {
          "base_uri": "https://localhost:8080/"
        },
        "id": "lDmMbYOEagig",
        "outputId": "fcd54158-8bf5-432a-af54-2cca2bb494f7"
      },
      "execution_count": null,
      "outputs": [
        {
          "output_type": "stream",
          "name": "stdout",
          "text": [
            "max value occurs at index:3\n",
            "min value occurs at index: 0\n"
          ]
        }
      ]
    },
    {
      "cell_type": "code",
      "source": [
        "# Find arg max\n",
        "print(\"max value occurs at index\", output.argmax())\n",
        "# Find arg min\n",
        "print(\"min value occurs at index\", output.argmin())"
      ],
      "metadata": {
        "id": "CCEKt4K2lsfQ",
        "colab": {
          "base_uri": "https://localhost:8080/"
        },
        "outputId": "012a0e22-85f1-4af8-b952-3999ddef8789"
      },
      "execution_count": null,
      "outputs": [
        {
          "output_type": "stream",
          "name": "stdout",
          "text": [
            "max value occurs at index tensor(3, device='cuda:0')\n",
            "min value occurs at index tensor(0, device='cuda:0')\n"
          ]
        }
      ]
    },
    {
      "cell_type": "markdown",
      "source": [
        "\n",
        "### 10. Make a random tensor with shape `(1, 1, 1, 10)` and then create a new tensor with all the `1` dimensions removed to be left with a tensor of shape `(10)`. Set the seed to `7` when you create it and print out the first tensor and it's shape as well as the second tensor and it's shape.\n",
        "\n",
        "The output should look like:\n",
        "\n",
        "```\n",
        "tensor([[[[0.5349, 0.1988, 0.6592, 0.6569, 0.2328, 0.4251, 0.2071, 0.6297,\n",
        "           0.3653, 0.8513]]]]) torch.Size([1, 1, 1, 10])\n",
        "tensor([0.5349, 0.1988, 0.6592, 0.6569, 0.2328, 0.4251, 0.2071, 0.6297, 0.3653,\n",
        "        0.8513]) torch.Size([10])\n",
        "```"
      ],
      "metadata": {
        "id": "hmeybz4uixy7"
      }
    },
    {
      "cell_type": "code",
      "source": [
        "# Set seed\n",
        "torch.manual_seed(7)\n",
        "\n",
        "# Create random tensor\n",
        "tensor1 = torch.rand(size = (1,1,1,10))\n",
        "\n",
        "# Remove single dimensions\n",
        "# method 1:\n",
        "tensor1_reshaped = tensor1.reshape(10)\n",
        "# method 2:\n",
        "tensor1_squeeze = tensor1.squeeze()\n",
        "\n",
        "# Print out tensors and their shapes\n",
        "print(tensor1, tensor1.shape)\n",
        "print()\n",
        "print(tensor1_reshaped, tensor1_reshaped.shape)\n",
        "print()\n",
        "print(tensor1_squeeze, tensor1_squeeze.shape)\n"
      ],
      "metadata": {
        "id": "TQ9zbRzVl1jV",
        "colab": {
          "base_uri": "https://localhost:8080/"
        },
        "outputId": "2df1a49c-8e2e-44be-c24e-f46d10501869"
      },
      "execution_count": null,
      "outputs": [
        {
          "output_type": "stream",
          "name": "stdout",
          "text": [
            "tensor([[[[0.5349, 0.1988, 0.6592, 0.6569, 0.2328, 0.4251, 0.2071, 0.6297,\n",
            "           0.3653, 0.8513]]]]) torch.Size([1, 1, 1, 10])\n",
            "\n",
            "tensor([0.5349, 0.1988, 0.6592, 0.6569, 0.2328, 0.4251, 0.2071, 0.6297, 0.3653,\n",
            "        0.8513]) torch.Size([10])\n",
            "\n",
            "tensor([0.5349, 0.1988, 0.6592, 0.6569, 0.2328, 0.4251, 0.2071, 0.6297, 0.3653,\n",
            "        0.8513]) torch.Size([10])\n"
          ]
        }
      ]
    }
  ]
}